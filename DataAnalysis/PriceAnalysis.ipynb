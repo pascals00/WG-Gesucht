{
 "cells": [
  {
   "cell_type": "markdown",
   "metadata": {},
   "source": [
    "# WG - Gesucht Data Analysis \n",
    "#### Step 3: Price Analysis\n",
    "\n",
    "##### This notebook explores the data of the WG-Gesucht dataset. The process includes the following: \n",
    "- Looking at the average and median Rent per District in Berlin (or Suburb)\n",
    "- View the extrema in each District (or Suburb)\n",
    "- Compare the median rent for shared flats with general housing market in Berlin"
   ]
  },
  {
   "cell_type": "code",
   "execution_count": 815,
   "metadata": {},
   "outputs": [],
   "source": [
    "import pandas as pd\n",
    "import os\n",
    "from datetime import datetime\n",
    "from openpyxl import load_workbook\n",
    "import seaborn as sns\n",
    "import matplotlib.pyplot as plt\n",
    "from matplotlib import rc\n",
    "import src.language as ln\n",
    "import src.style as st\n",
    "import matplotlib\n",
    "import numpy as np"
   ]
  },
  {
   "cell_type": "code",
   "execution_count": 816,
   "metadata": {},
   "outputs": [],
   "source": [
    "df = pd.read_parquet('Data/apartmentsBerlinDataCleaned.parquet')\n",
    "\n",
    "# Settings\n",
    "langauge = 'german'\n",
    "font = {'fontname': 'Calibri'}\n",
    "# Say, \"the default sans-serif font is COMIC SANS\"\n",
    "matplotlib.rcParams['font.sans-serif'] = \"Calibri\"\n",
    "# Then, \"ALWAYS use sans-serif fonts\"\n",
    "matplotlib.rcParams['font.family'] = \"sans-serif\"\n",
    "pd.options.mode.copy_on_write = True\n"
   ]
  },
  {
   "cell_type": "markdown",
   "metadata": {},
   "source": [
    "### Step 1: The median Rent per District and per Suburb \n",
    "\n",
    "In this step, we will look at the average and median rent per suburb in Berlin.\n"
   ]
  },
  {
   "cell_type": "code",
   "execution_count": 817,
   "metadata": {},
   "outputs": [],
   "source": [
    "df_price_analysis = df[['apartmentID', 'title', 'room_size', 'total_rent', 'suburb', 'district', 'online_since', 'apartment_size', 'max_roommate']]\n",
    "\n",
    "# Clean the data and convert the columns to the right data type for calculations\n",
    "df_price_analysis.loc[:, 'room_size'] = df_price_analysis['room_size'].str.replace('m²', '').astype(float)\n",
    "df_price_analysis.loc[:, 'apartment_size'] = df_price_analysis['apartment_size'].str.replace('m²', '').astype(float)\n",
    "df_price_analysis.loc[:, 'total_rent'] = df_price_analysis['total_rent'].str.replace('€', '').astype(float)\n",
    "df_price_analysis.loc[:, 'max_roommate'] = df_price_analysis['max_roommate'].astype(float)\n",
    "df_price_analysis.loc[:, 'online_since'] = pd.to_datetime(df_price_analysis['online_since'])"
   ]
  },
  {
   "cell_type": "markdown",
   "metadata": {},
   "source": [
    "For the follwing, you can choose excluding the top and bottom percentages of the data.\n",
    "\n",
    "For example 5%.  "
   ]
  },
  {
   "cell_type": "code",
   "execution_count": 818,
   "metadata": {},
   "outputs": [],
   "source": [
    "# Settings:  \n",
    "exclude_top_bottom_percent = True  # Set to True to exclude, or False to include all data\n",
    "columns_to_trim = ['room_size', 'total_rent']\n",
    "bottom_quantile = 0.02\n",
    "top_quantile = 0.98"
   ]
  },
  {
   "cell_type": "code",
   "execution_count": 819,
   "metadata": {},
   "outputs": [],
   "source": [
    "def trim_dataset_all_columns(df, columns, exclude_top_bottom_10percent, bottom_quantile, top_quantile):\n",
    "\n",
    "    if exclude_top_bottom_10percent:\n",
    "        conditions = [df[col].between(df[col].quantile(bottom_quantile), df[col].quantile(top_quantile)) for col in columns]\n",
    "        combined_condition = conditions[0]\n",
    "        for condition in conditions[1:]:\n",
    "            combined_condition &= condition\n",
    "        return df[combined_condition]\n",
    "    else:\n",
    "        return df"
   ]
  },
  {
   "cell_type": "code",
   "execution_count": 820,
   "metadata": {},
   "outputs": [],
   "source": [
    "# Apply trimming across specified columns\n",
    "df_price_analysis = trim_dataset_all_columns(df_price_analysis, columns_to_trim, exclude_top_bottom_percent, bottom_quantile, top_quantile)"
   ]
  },
  {
   "cell_type": "code",
   "execution_count": 821,
   "metadata": {},
   "outputs": [
    {
     "name": "stdout",
     "output_type": "stream",
     "text": [
      "The length of the dataset after trimming is: 7744\n"
     ]
    }
   ],
   "source": [
    "print(f'The length of the dataset after trimming is: {len(df_price_analysis)}')"
   ]
  },
  {
   "cell_type": "code",
   "execution_count": 822,
   "metadata": {},
   "outputs": [],
   "source": [
    "# Filter dates older than 01.01.2023\n",
    "df_price_analysis = df_price_analysis[df_price_analysis['online_since'] > datetime(2023, 1, 1)]"
   ]
  },
  {
   "cell_type": "markdown",
   "metadata": {},
   "source": [
    "Adjust the squaremeter price per room with the shared squaremeters by all roomates for better comparison. \n",
    "\n",
    "Assumption: \n",
    "- All people pay equal prizes in the apartment \n",
    "- Each person has same roomsize\n",
    "- Resulting in a shared space calculated by apartment size subtracted by people living the apartment times average room size. "
   ]
  },
  {
   "cell_type": "code",
   "execution_count": 823,
   "metadata": {},
   "outputs": [
    {
     "name": "stdout",
     "output_type": "stream",
     "text": [
      "The average room size is: 23.178618857901725\n"
     ]
    }
   ],
   "source": [
    "# Calculating mean room size \n",
    "average_room_size = df_price_analysis['room_size'].mean()\n",
    "\n",
    "# Filter only the ads where the apartment size is available\n",
    "df_price_analysis_adjusted = df_price_analysis[df_price_analysis['apartment_size'].notnull()]\n",
    "\n",
    "print(f'The average room size is: {average_room_size}')"
   ]
  },
  {
   "cell_type": "code",
   "execution_count": 824,
   "metadata": {},
   "outputs": [
    {
     "data": {
      "text/plain": [
       "15.452412571934483"
      ]
     },
     "execution_count": 824,
     "metadata": {},
     "output_type": "execute_result"
    }
   ],
   "source": [
    "df_price_analysis_adjusted.loc[:, 'room_size_per_person'] = df_price_analysis['room_size'].mean()\n",
    "\n",
    "df_price_analysis_adjusted.loc[:, 'room_size_per_person'] = np.where(\n",
    "    df_price_analysis_adjusted['room_size'] < (2/3) * df_price_analysis_adjusted['room_size_per_person'],\n",
    "    df_price_analysis_adjusted['room_size'],\n",
    "    df_price_analysis_adjusted['room_size_per_person']\n",
    ")\n",
    "\n",
    "(2/3)*df_price_analysis['room_size'].mean()"
   ]
  },
  {
   "cell_type": "code",
   "execution_count": 825,
   "metadata": {},
   "outputs": [],
   "source": [
    "# Calculate the adjusted room size\n",
    "df_price_analysis_adjusted.loc[:, 'adjusted_roomsize_in_m2'] = df_price_analysis_adjusted['room_size'] + (((df_price_analysis_adjusted['apartment_size'] - df_price_analysis_adjusted['room_size']) - (df_price_analysis_adjusted['room_size_per_person'] * (df_price_analysis_adjusted['max_roommate']-1)))/df_price_analysis_adjusted['max_roommate'])\n",
    "\n",
    "# Ensuring adjusted_roomsize_in_m2 is not smaller than the actual room_size\n",
    "df_price_analysis_adjusted['adjusted_roomsize_in_m2'] = np.where(\n",
    "    df_price_analysis_adjusted['adjusted_roomsize_in_m2'] < df_price_analysis_adjusted['room_size'],\n",
    "    df_price_analysis_adjusted['room_size'],\n",
    "    df_price_analysis_adjusted['adjusted_roomsize_in_m2']\n",
    ")\n",
    "\n",
    "# Filter negative values out \n",
    "df_price_analysis_adjusted = df_price_analysis_adjusted[df_price_analysis_adjusted['adjusted_roomsize_in_m2'] >= 0]\n",
    "\n",
    "df_price_analysis_adjusted.loc[:, 'adjusted_price_per_m2'] = df_price_analysis_adjusted['total_rent'] / df_price_analysis_adjusted['adjusted_roomsize_in_m2']"
   ]
  },
  {
   "cell_type": "code",
   "execution_count": 826,
   "metadata": {},
   "outputs": [],
   "source": [
    "df_price_analysis.loc[:, 'price_per_m2'] = df_price_analysis['total_rent'] / df_price_analysis['room_size']"
   ]
  },
  {
   "cell_type": "code",
   "execution_count": 827,
   "metadata": {},
   "outputs": [
    {
     "name": "stdout",
     "output_type": "stream",
     "text": [
      "The length of the original dataset is: 7530\n",
      "The length of the adjusted dataset is: 4693\n"
     ]
    }
   ],
   "source": [
    "print(f'The length of the original dataset is: {len(df_price_analysis)}')\n",
    "print(f'The length of the adjusted dataset is: {len(df_price_analysis_adjusted)}')"
   ]
  },
  {
   "cell_type": "markdown",
   "metadata": {},
   "source": [
    "The mean and median square meter rent in the berlin Suburbs or Districts: "
   ]
  },
  {
   "cell_type": "code",
   "execution_count": 828,
   "metadata": {},
   "outputs": [],
   "source": [
    "# What do you want to analyze? \n",
    "\n",
    "area = 'district' # or suburb "
   ]
  },
  {
   "cell_type": "code",
   "execution_count": 829,
   "metadata": {},
   "outputs": [],
   "source": [
    "# For the original and adjusted dataframe, calculating mean and median of price per m2 by suburb\n",
    "df_price_group = df_price_analysis.groupby(area).agg({'price_per_m2': ['mean', 'median']}).reset_index()\n",
    "\n",
    "df_price_adjusted_group = df_price_analysis_adjusted.groupby(area).agg({'adjusted_price_per_m2': ['mean', 'median']}).reset_index()"
   ]
  },
  {
   "cell_type": "code",
   "execution_count": 830,
   "metadata": {},
   "outputs": [],
   "source": [
    "# Renaming the columns for clarity\n",
    "df_price_group.columns = [area, 'price_per_m2_mean', 'price_per_m2_median']\n",
    "df_price_adjusted_group.columns = [area, 'adjusted_price_per_m2_mean', 'adjusted_price_per_m2_median']"
   ]
  },
  {
   "cell_type": "code",
   "execution_count": 831,
   "metadata": {},
   "outputs": [],
   "source": [
    "median_price_per_m2 = df_price_group['price_per_m2_median'].median()\n",
    "mean_price_per_m2 = df_price_group['price_per_m2_mean'].mean()\n",
    "\n",
    "# Erstellen eines neuen DataFrame mit den Daten für \"Berlin Insgesamt\"\n",
    "berlin_row = pd.DataFrame({\n",
    "    area: ['Berlin Insgesamt'], \n",
    "    'price_per_m2_median': [median_price_per_m2], \n",
    "    'price_per_m2_mean': [mean_price_per_m2]\n",
    "})\n",
    "\n",
    "# Verwenden von concat, um diesen DataFrame mit dem bestehenden df_price_group zu verbinden\n",
    "df_price_group = pd.concat([df_price_group, berlin_row], ignore_index=True)\n"
   ]
  },
  {
   "cell_type": "code",
   "execution_count": 832,
   "metadata": {},
   "outputs": [
    {
     "data": {
      "text/html": [
       "<div style=\"overflow-x:auto;\"><table border=\"1\" class=\"dataframe\">\n",
       "  <thead>\n",
       "    <tr style=\"text-align: right;\">\n",
       "      <th></th>\n",
       "      <th>district</th>\n",
       "      <th>price_per_m2_mean</th>\n",
       "      <th>price_per_m2_median</th>\n",
       "    </tr>\n",
       "  </thead>\n",
       "  <tbody>\n",
       "    <tr>\n",
       "      <th>7</th>\n",
       "      <td>Reinickendorf</td>\n",
       "      <td>31.305926</td>\n",
       "      <td>30.555556</td>\n",
       "    </tr>\n",
       "    <tr>\n",
       "      <th>4</th>\n",
       "      <td>Mitte</td>\n",
       "      <td>30.859159</td>\n",
       "      <td>28.708333</td>\n",
       "    </tr>\n",
       "    <tr>\n",
       "      <th>8</th>\n",
       "      <td>Spandau</td>\n",
       "      <td>30.61949</td>\n",
       "      <td>29.166667</td>\n",
       "    </tr>\n",
       "    <tr>\n",
       "      <th>11</th>\n",
       "      <td>Treptow-Köpenick</td>\n",
       "      <td>30.523308</td>\n",
       "      <td>28.571429</td>\n",
       "    </tr>\n",
       "    <tr>\n",
       "      <th>0</th>\n",
       "      <td>Charlottenburg-Wilmersdorf</td>\n",
       "      <td>30.405244</td>\n",
       "      <td>27.888889</td>\n",
       "    </tr>\n",
       "    <tr>\n",
       "      <th>2</th>\n",
       "      <td>Lichtenberg</td>\n",
       "      <td>30.322975</td>\n",
       "      <td>30.0</td>\n",
       "    </tr>\n",
       "    <tr>\n",
       "      <th>9</th>\n",
       "      <td>Steglitz-Zehlendorf</td>\n",
       "      <td>29.992459</td>\n",
       "      <td>30.0</td>\n",
       "    </tr>\n",
       "    <tr>\n",
       "      <th>12</th>\n",
       "      <td>Berlin Insgesamt</td>\n",
       "      <td>29.871113</td>\n",
       "      <td>28.639881</td>\n",
       "    </tr>\n",
       "    <tr>\n",
       "      <th>6</th>\n",
       "      <td>Pankow</td>\n",
       "      <td>29.644549</td>\n",
       "      <td>28.571429</td>\n",
       "    </tr>\n",
       "    <tr>\n",
       "      <th>3</th>\n",
       "      <td>Marzahn-Hellersdorf</td>\n",
       "      <td>29.597221</td>\n",
       "      <td>29.039216</td>\n",
       "    </tr>\n",
       "    <tr>\n",
       "      <th>1</th>\n",
       "      <td>Friedrichshain-Kreuzberg</td>\n",
       "      <td>29.232064</td>\n",
       "      <td>27.906977</td>\n",
       "    </tr>\n",
       "    <tr>\n",
       "      <th>10</th>\n",
       "      <td>Tempelhof-Schöneberg</td>\n",
       "      <td>28.708502</td>\n",
       "      <td>28.0</td>\n",
       "    </tr>\n",
       "    <tr>\n",
       "      <th>5</th>\n",
       "      <td>Neukölln</td>\n",
       "      <td>27.242463</td>\n",
       "      <td>26.282895</td>\n",
       "    </tr>\n",
       "  </tbody>\n",
       "</table></div>"
      ],
      "text/plain": [
       "<IPython.core.display.HTML object>"
      ]
     },
     "metadata": {},
     "output_type": "display_data"
    }
   ],
   "source": [
    "df_price_group = df_price_group.sort_values('price_per_m2_mean', ascending=False)\n",
    "\n",
    "st.display_as_table(df_price_group) "
   ]
  },
  {
   "cell_type": "code",
   "execution_count": 833,
   "metadata": {},
   "outputs": [
    {
     "data": {
      "text/html": [
       "<div style=\"overflow-x:auto;\"><table border=\"1\" class=\"dataframe\">\n",
       "  <thead>\n",
       "    <tr style=\"text-align: right;\">\n",
       "      <th></th>\n",
       "      <th>district</th>\n",
       "      <th>price_per_m2_mean</th>\n",
       "      <th>price_per_m2_median</th>\n",
       "    </tr>\n",
       "  </thead>\n",
       "  <tbody>\n",
       "    <tr>\n",
       "      <th>7</th>\n",
       "      <td>Reinickendorf</td>\n",
       "      <td>31.305926</td>\n",
       "      <td>30.555556</td>\n",
       "    </tr>\n",
       "    <tr>\n",
       "      <th>2</th>\n",
       "      <td>Lichtenberg</td>\n",
       "      <td>30.322975</td>\n",
       "      <td>30.0</td>\n",
       "    </tr>\n",
       "    <tr>\n",
       "      <th>9</th>\n",
       "      <td>Steglitz-Zehlendorf</td>\n",
       "      <td>29.992459</td>\n",
       "      <td>30.0</td>\n",
       "    </tr>\n",
       "    <tr>\n",
       "      <th>8</th>\n",
       "      <td>Spandau</td>\n",
       "      <td>30.61949</td>\n",
       "      <td>29.166667</td>\n",
       "    </tr>\n",
       "    <tr>\n",
       "      <th>3</th>\n",
       "      <td>Marzahn-Hellersdorf</td>\n",
       "      <td>29.597221</td>\n",
       "      <td>29.039216</td>\n",
       "    </tr>\n",
       "    <tr>\n",
       "      <th>4</th>\n",
       "      <td>Mitte</td>\n",
       "      <td>30.859159</td>\n",
       "      <td>28.708333</td>\n",
       "    </tr>\n",
       "    <tr>\n",
       "      <th>12</th>\n",
       "      <td>Berlin Insgesamt</td>\n",
       "      <td>29.871113</td>\n",
       "      <td>28.639881</td>\n",
       "    </tr>\n",
       "    <tr>\n",
       "      <th>11</th>\n",
       "      <td>Treptow-Köpenick</td>\n",
       "      <td>30.523308</td>\n",
       "      <td>28.571429</td>\n",
       "    </tr>\n",
       "    <tr>\n",
       "      <th>6</th>\n",
       "      <td>Pankow</td>\n",
       "      <td>29.644549</td>\n",
       "      <td>28.571429</td>\n",
       "    </tr>\n",
       "    <tr>\n",
       "      <th>10</th>\n",
       "      <td>Tempelhof-Schöneberg</td>\n",
       "      <td>28.708502</td>\n",
       "      <td>28.0</td>\n",
       "    </tr>\n",
       "    <tr>\n",
       "      <th>1</th>\n",
       "      <td>Friedrichshain-Kreuzberg</td>\n",
       "      <td>29.232064</td>\n",
       "      <td>27.906977</td>\n",
       "    </tr>\n",
       "    <tr>\n",
       "      <th>0</th>\n",
       "      <td>Charlottenburg-Wilmersdorf</td>\n",
       "      <td>30.405244</td>\n",
       "      <td>27.888889</td>\n",
       "    </tr>\n",
       "    <tr>\n",
       "      <th>5</th>\n",
       "      <td>Neukölln</td>\n",
       "      <td>27.242463</td>\n",
       "      <td>26.282895</td>\n",
       "    </tr>\n",
       "  </tbody>\n",
       "</table></div>"
      ],
      "text/plain": [
       "<IPython.core.display.HTML object>"
      ]
     },
     "metadata": {},
     "output_type": "display_data"
    }
   ],
   "source": [
    "df_price_group = df_price_group.sort_values('price_per_m2_median', ascending=False)\n",
    "\n",
    "st.display_as_table(df_price_group) "
   ]
  },
  {
   "cell_type": "code",
   "execution_count": 834,
   "metadata": {},
   "outputs": [
    {
     "name": "stdout",
     "output_type": "stream",
     "text": [
      "The district with the highest median prices:\n"
     ]
    },
    {
     "data": {
      "text/html": [
       "<div style=\"overflow-x:auto;\"><table border=\"1\" class=\"dataframe\">\n",
       "  <thead>\n",
       "    <tr style=\"text-align: right;\">\n",
       "      <th></th>\n",
       "      <th>district</th>\n",
       "      <th>price_per_m2_mean</th>\n",
       "      <th>price_per_m2_median</th>\n",
       "    </tr>\n",
       "  </thead>\n",
       "  <tbody>\n",
       "    <tr>\n",
       "      <th>7</th>\n",
       "      <td>Reinickendorf</td>\n",
       "      <td>31.305926</td>\n",
       "      <td>30.555556</td>\n",
       "    </tr>\n",
       "    <tr>\n",
       "      <th>2</th>\n",
       "      <td>Lichtenberg</td>\n",
       "      <td>30.322975</td>\n",
       "      <td>30.0</td>\n",
       "    </tr>\n",
       "    <tr>\n",
       "      <th>9</th>\n",
       "      <td>Steglitz-Zehlendorf</td>\n",
       "      <td>29.992459</td>\n",
       "      <td>30.0</td>\n",
       "    </tr>\n",
       "  </tbody>\n",
       "</table></div>"
      ],
      "text/plain": [
       "<IPython.core.display.HTML object>"
      ]
     },
     "metadata": {},
     "output_type": "display_data"
    }
   ],
   "source": [
    "df_price_group = df_price_group.sort_values('price_per_m2_median', ascending=False)\n",
    "\n",
    "print(f'The district with the highest median prices:')\n",
    "st.display_as_table(df_price_group.head(3))"
   ]
  },
  {
   "cell_type": "code",
   "execution_count": 835,
   "metadata": {},
   "outputs": [
    {
     "data": {
      "text/plain": [
       "<Figure size 800x400 with 0 Axes>"
      ]
     },
     "metadata": {},
     "output_type": "display_data"
    },
    {
     "data": {
      "image/png": "[encoded data removed]",
      "text/plain": [
       "<Figure size 640x480 with 1 Axes>"
      ]
     },
     "metadata": {},
     "output_type": "display_data"
    }
   ],
   "source": [
    "# Setting the style\n",
    "sns.set(style=\"white\")\n",
    "sns.set_context(\"paper\")\n",
    "\n",
    "# Creating the figure\n",
    "plt.figure(figsize=(8, 4))\n",
    "fig, ax = plt.subplots()\n",
    "\n",
    "# Creating a bar plot\n",
    "sns.barplot(x='price_per_m2_median', y='district', data=df_price_group, color='#dc5454', edgecolor='black', height=0.5)\n",
    "\n",
    "# Setting the labels and title\n",
    "plt.xlabel('Median Price per m²', fontsize=9)\n",
    "plt.ylabel('District', fontsize=9)\n",
    "plt.title('Median Price per m² across Berlin Districts', fontsize=9)\n",
    "sns.despine()\n",
    "\n",
    "plt.show()"
   ]
  },
  {
   "cell_type": "code",
   "execution_count": 836,
   "metadata": {},
   "outputs": [],
   "source": [
    "median_price_per_m2 = df_price_adjusted_group['adjusted_price_per_m2_median'].median()\n",
    "mean_price_per_m2 = df_price_adjusted_group['adjusted_price_per_m2_mean'].mean()\n",
    "\n",
    "# Erstellen eines neuen DataFrame mit den Daten für \"Berlin Insgesamt\"\n",
    "berlin_row_adjusted = pd.DataFrame({\n",
    "    area: ['Berlin Insgesamt'], \n",
    "    'adjusted_price_per_m2_median': [median_price_per_m2], \n",
    "    'adjusted_price_per_m2_mean': [mean_price_per_m2]\n",
    "})\n",
    "\n",
    "# Verwenden von concat, um diesen DataFrame mit dem bestehenden df_price_group zu verbinden\n",
    "df_price_adjusted_group = pd.concat([df_price_adjusted_group, berlin_row_adjusted], ignore_index=True)\n"
   ]
  },
  {
   "cell_type": "code",
   "execution_count": 837,
   "metadata": {},
   "outputs": [
    {
     "name": "stdout",
     "output_type": "stream",
     "text": [
      "The highest price per m2 adjusted top 10 suburbs are:\n"
     ]
    },
    {
     "data": {
      "text/html": [
       "<div style=\"overflow-x:auto;\"><table border=\"1\" class=\"dataframe\">\n",
       "  <thead>\n",
       "    <tr style=\"text-align: right;\">\n",
       "      <th></th>\n",
       "      <th>district</th>\n",
       "      <th>adjusted_price_per_m2_mean</th>\n",
       "      <th>adjusted_price_per_m2_median</th>\n",
       "    </tr>\n",
       "  </thead>\n",
       "  <tbody>\n",
       "    <tr>\n",
       "      <th>7</th>\n",
       "      <td>Reinickendorf</td>\n",
       "      <td>19.916927</td>\n",
       "      <td>20.218987</td>\n",
       "    </tr>\n",
       "    <tr>\n",
       "      <th>0</th>\n",
       "      <td>Charlottenburg-Wilmersdorf</td>\n",
       "      <td>19.233919</td>\n",
       "      <td>18.495685</td>\n",
       "    </tr>\n",
       "    <tr>\n",
       "      <th>8</th>\n",
       "      <td>Spandau</td>\n",
       "      <td>19.137435</td>\n",
       "      <td>19.689121</td>\n",
       "    </tr>\n",
       "    <tr>\n",
       "      <th>4</th>\n",
       "      <td>Mitte</td>\n",
       "      <td>19.105827</td>\n",
       "      <td>17.979162</td>\n",
       "    </tr>\n",
       "    <tr>\n",
       "      <th>6</th>\n",
       "      <td>Pankow</td>\n",
       "      <td>18.956652</td>\n",
       "      <td>18.301622</td>\n",
       "    </tr>\n",
       "    <tr>\n",
       "      <th>9</th>\n",
       "      <td>Steglitz-Zehlendorf</td>\n",
       "      <td>18.681118</td>\n",
       "      <td>18.742822</td>\n",
       "    </tr>\n",
       "    <tr>\n",
       "      <th>2</th>\n",
       "      <td>Lichtenberg</td>\n",
       "      <td>18.626275</td>\n",
       "      <td>17.813275</td>\n",
       "    </tr>\n",
       "    <tr>\n",
       "      <th>10</th>\n",
       "      <td>Tempelhof-Schöneberg</td>\n",
       "      <td>18.613814</td>\n",
       "      <td>17.818997</td>\n",
       "    </tr>\n",
       "    <tr>\n",
       "      <th>12</th>\n",
       "      <td>Berlin Insgesamt</td>\n",
       "      <td>18.581456</td>\n",
       "      <td>17.899079</td>\n",
       "    </tr>\n",
       "    <tr>\n",
       "      <th>11</th>\n",
       "      <td>Treptow-Köpenick</td>\n",
       "      <td>18.032768</td>\n",
       "      <td>17.359713</td>\n",
       "    </tr>\n",
       "  </tbody>\n",
       "</table></div>"
      ],
      "text/plain": [
       "<IPython.core.display.HTML object>"
      ]
     },
     "metadata": {},
     "output_type": "display_data"
    }
   ],
   "source": [
    "df_price_adjusted_group = df_price_adjusted_group.sort_values('adjusted_price_per_m2_mean', ascending=False)\n",
    "\n",
    "print('The highest price per m2 adjusted top 10 suburbs are:')\n",
    "st.display_as_table(df_price_adjusted_group.head(10)) "
   ]
  },
  {
   "cell_type": "code",
   "execution_count": 838,
   "metadata": {},
   "outputs": [
    {
     "name": "stdout",
     "output_type": "stream",
     "text": [
      "The district with the highest median prices adjusted:\n"
     ]
    },
    {
     "data": {
      "text/html": [
       "<div style=\"overflow-x:auto;\"><table border=\"1\" class=\"dataframe\">\n",
       "  <thead>\n",
       "    <tr style=\"text-align: right;\">\n",
       "      <th></th>\n",
       "      <th>district</th>\n",
       "      <th>adjusted_price_per_m2_mean</th>\n",
       "      <th>adjusted_price_per_m2_median</th>\n",
       "    </tr>\n",
       "  </thead>\n",
       "  <tbody>\n",
       "    <tr>\n",
       "      <th>7</th>\n",
       "      <td>Reinickendorf</td>\n",
       "      <td>19.916927</td>\n",
       "      <td>20.218987</td>\n",
       "    </tr>\n",
       "    <tr>\n",
       "      <th>8</th>\n",
       "      <td>Spandau</td>\n",
       "      <td>19.137435</td>\n",
       "      <td>19.689121</td>\n",
       "    </tr>\n",
       "    <tr>\n",
       "      <th>9</th>\n",
       "      <td>Steglitz-Zehlendorf</td>\n",
       "      <td>18.681118</td>\n",
       "      <td>18.742822</td>\n",
       "    </tr>\n",
       "  </tbody>\n",
       "</table></div>"
      ],
      "text/plain": [
       "<IPython.core.display.HTML object>"
      ]
     },
     "metadata": {},
     "output_type": "display_data"
    }
   ],
   "source": [
    "df_price_adjusted_group = df_price_adjusted_group.sort_values('adjusted_price_per_m2_median', ascending=False)\n",
    "\n",
    "print('The district with the highest median prices adjusted:')\n",
    "st.display_as_table(df_price_adjusted_group.head(3)) "
   ]
  },
  {
   "cell_type": "code",
   "execution_count": 839,
   "metadata": {},
   "outputs": [
    {
     "data": {
      "text/plain": [
       "<Figure size 800x400 with 0 Axes>"
      ]
     },
     "metadata": {},
     "output_type": "display_data"
    },
    {
     "data": {
      "image/png": "[encoded data removed]",
      "text/plain": [
       "<Figure size 640x480 with 1 Axes>"
      ]
     },
     "metadata": {},
     "output_type": "display_data"
    }
   ],
   "source": [
    "\n",
    "# Setting the style\n",
    "sns.set(style=\"white\")\n",
    "sns.set_context(\"paper\")\n",
    "\n",
    "# Creating the figure\n",
    "plt.figure(figsize=(8, 4))\n",
    "\n",
    "fig, ax = plt.subplots()\n",
    "\n",
    "# Creating a bar plot\n",
    "sns.barplot(x='adjusted_price_per_m2_median', y='district', data=df_price_adjusted_group, color='#dc5454', edgecolor='black', height=0.5)\n",
    "\n",
    "# Setting the labels and title\n",
    "plt.xlabel('Median Price per m²', fontsize=9)\n",
    "plt.ylabel('District', fontsize=9)\n",
    "plt.title('Median Price per m² across Berlin Districts', fontsize=9)\n",
    "sns.despine()\n",
    "\n",
    "plt.show()"
   ]
  },
  {
   "cell_type": "code",
   "execution_count": 840,
   "metadata": {},
   "outputs": [
    {
     "name": "stderr",
     "output_type": "stream",
     "text": [
      "/Library/Frameworks/Python.framework/Versions/3.11/lib/python3.11/site-packages/openpyxl/workbook/child.py:99: UserWarning: Title is more than 31 characters. Some applications may not be able to read the file\n",
      "  warnings.warn(\"Title is more than 31 characters. Some applications may not be able to read the file\")\n"
     ]
    }
   ],
   "source": [
    "file_path = 'data/output/price_analysis.xlsx'\n",
    "sheetnames = [f'{area}_price_per_m2', f'{area}_adjusted_price_per_m2']\n",
    "\n",
    "# Überprüfe, ob die Datei existiert und entferne das Blatt, falls es existiert\n",
    "if os.path.exists(file_path):\n",
    "    workbook = load_workbook(file_path)\n",
    "    for sheet_name in sheetnames:\n",
    "        if sheet_name in workbook.sheetnames:\n",
    "            del workbook[sheet_name]\n",
    "        workbook.save(file_path)\n",
    "\n",
    "with pd.ExcelWriter('data/output/price_analysis.xlsx', mode='a', engine='openpyxl') as writer:\n",
    "    df_price_group.to_excel(writer, sheet_name=sheetnames[0])\n",
    "    df_price_adjusted_group.to_excel(writer, sheet_name=sheetnames[1])"
   ]
  },
  {
   "cell_type": "markdown",
   "metadata": {},
   "source": [
    "### Step 2: The extreme Ends of Rent per Squaremeter in Berlins Districts \n",
    "\n",
    "In this step, we will look at the maximum and minimum rent per m2 in Berlins Districts."
   ]
  },
  {
   "cell_type": "code",
   "execution_count": 841,
   "metadata": {},
   "outputs": [],
   "source": [
    "# For the original and adjusted dataframe, calculating mean and median of price per m2 by suburb\n",
    "df_price_extremes_group = df_price_analysis.groupby(area).agg({'price_per_m2': ['min', 'max']}).reset_index()\n",
    "\n",
    "df_price_adjusted_extremes_group = df_price_analysis_adjusted.groupby(area).agg({'adjusted_price_per_m2': ['min', 'max']}).reset_index()"
   ]
  },
  {
   "cell_type": "code",
   "execution_count": 842,
   "metadata": {},
   "outputs": [],
   "source": [
    "# Renaming the columns for clarity\n",
    "df_price_extremes_group.columns = [area, 'min', 'max']\n",
    "df_price_adjusted_extremes_group.columns = [area, 'min', 'max']"
   ]
  },
  {
   "cell_type": "markdown",
   "metadata": {},
   "source": [
    "For non adjusted squaremeter prices: "
   ]
  },
  {
   "cell_type": "code",
   "execution_count": 843,
   "metadata": {},
   "outputs": [
    {
     "name": "stdout",
     "output_type": "stream",
     "text": [
      "The highest price per m2 top 10 district are:\n"
     ]
    },
    {
     "data": {
      "text/html": [
       "<div style=\"overflow-x:auto;\"><table border=\"1\" class=\"dataframe\">\n",
       "  <thead>\n",
       "    <tr style=\"text-align: right;\">\n",
       "      <th></th>\n",
       "      <th>district</th>\n",
       "      <th>max</th>\n",
       "    </tr>\n",
       "  </thead>\n",
       "  <tbody>\n",
       "    <tr>\n",
       "      <th>4</th>\n",
       "      <td>Mitte</td>\n",
       "      <td>110.0</td>\n",
       "    </tr>\n",
       "    <tr>\n",
       "      <th>0</th>\n",
       "      <td>Charlottenburg-Wilmersdorf</td>\n",
       "      <td>105.0</td>\n",
       "    </tr>\n",
       "    <tr>\n",
       "      <th>6</th>\n",
       "      <td>Pankow</td>\n",
       "      <td>100.0</td>\n",
       "    </tr>\n",
       "    <tr>\n",
       "      <th>1</th>\n",
       "      <td>Friedrichshain-Kreuzberg</td>\n",
       "      <td>85.0</td>\n",
       "    </tr>\n",
       "    <tr>\n",
       "      <th>2</th>\n",
       "      <td>Lichtenberg</td>\n",
       "      <td>84.090909</td>\n",
       "    </tr>\n",
       "    <tr>\n",
       "      <th>5</th>\n",
       "      <td>Neukölln</td>\n",
       "      <td>81.142857</td>\n",
       "    </tr>\n",
       "    <tr>\n",
       "      <th>11</th>\n",
       "      <td>Treptow-Köpenick</td>\n",
       "      <td>74.2</td>\n",
       "    </tr>\n",
       "    <tr>\n",
       "      <th>7</th>\n",
       "      <td>Reinickendorf</td>\n",
       "      <td>70.0</td>\n",
       "    </tr>\n",
       "    <tr>\n",
       "      <th>10</th>\n",
       "      <td>Tempelhof-Schöneberg</td>\n",
       "      <td>63.333333</td>\n",
       "    </tr>\n",
       "    <tr>\n",
       "      <th>3</th>\n",
       "      <td>Marzahn-Hellersdorf</td>\n",
       "      <td>57.916667</td>\n",
       "    </tr>\n",
       "  </tbody>\n",
       "</table></div>"
      ],
      "text/plain": [
       "<IPython.core.display.HTML object>"
      ]
     },
     "metadata": {},
     "output_type": "display_data"
    }
   ],
   "source": [
    "df_price_extremes_group = df_price_extremes_group.sort_values('max', ascending=False)\n",
    "\n",
    "print(f'The highest price per m2 top 10 {area} are:')\n",
    "st.display_as_table(df_price_extremes_group[['district', 'max']].head(10)) "
   ]
  },
  {
   "cell_type": "code",
   "execution_count": 844,
   "metadata": {},
   "outputs": [
    {
     "name": "stdout",
     "output_type": "stream",
     "text": [
      "The min price per m2 top 10 district are:\n"
     ]
    },
    {
     "data": {
      "text/html": [
       "<div style=\"overflow-x:auto;\"><table border=\"1\" class=\"dataframe\">\n",
       "  <thead>\n",
       "    <tr style=\"text-align: right;\">\n",
       "      <th></th>\n",
       "      <th>district</th>\n",
       "      <th>min</th>\n",
       "    </tr>\n",
       "  </thead>\n",
       "  <tbody>\n",
       "    <tr>\n",
       "      <th>5</th>\n",
       "      <td>Neukölln</td>\n",
       "      <td>0.7</td>\n",
       "    </tr>\n",
       "    <tr>\n",
       "      <th>10</th>\n",
       "      <td>Tempelhof-Schöneberg</td>\n",
       "      <td>0.875</td>\n",
       "    </tr>\n",
       "    <tr>\n",
       "      <th>4</th>\n",
       "      <td>Mitte</td>\n",
       "      <td>0.909091</td>\n",
       "    </tr>\n",
       "    <tr>\n",
       "      <th>1</th>\n",
       "      <td>Friedrichshain-Kreuzberg</td>\n",
       "      <td>0.925926</td>\n",
       "    </tr>\n",
       "    <tr>\n",
       "      <th>6</th>\n",
       "      <td>Pankow</td>\n",
       "      <td>1.0</td>\n",
       "    </tr>\n",
       "    <tr>\n",
       "      <th>11</th>\n",
       "      <td>Treptow-Köpenick</td>\n",
       "      <td>1.0</td>\n",
       "    </tr>\n",
       "    <tr>\n",
       "      <th>0</th>\n",
       "      <td>Charlottenburg-Wilmersdorf</td>\n",
       "      <td>1.09375</td>\n",
       "    </tr>\n",
       "    <tr>\n",
       "      <th>8</th>\n",
       "      <td>Spandau</td>\n",
       "      <td>1.428571</td>\n",
       "    </tr>\n",
       "    <tr>\n",
       "      <th>7</th>\n",
       "      <td>Reinickendorf</td>\n",
       "      <td>2.166667</td>\n",
       "    </tr>\n",
       "    <tr>\n",
       "      <th>9</th>\n",
       "      <td>Steglitz-Zehlendorf</td>\n",
       "      <td>2.166667</td>\n",
       "    </tr>\n",
       "  </tbody>\n",
       "</table></div>"
      ],
      "text/plain": [
       "<IPython.core.display.HTML object>"
      ]
     },
     "metadata": {},
     "output_type": "display_data"
    }
   ],
   "source": [
    "df_price_extremes_group = df_price_extremes_group.sort_values('min', ascending=True)\n",
    "\n",
    "print(f'The min price per m2 top 10 {area} are:')\n",
    "st.display_as_table(df_price_extremes_group[['district', 'min']].head(10)) "
   ]
  },
  {
   "cell_type": "markdown",
   "metadata": {},
   "source": [
    "For adjusted squaremeter prices: "
   ]
  },
  {
   "cell_type": "code",
   "execution_count": 845,
   "metadata": {},
   "outputs": [
    {
     "name": "stdout",
     "output_type": "stream",
     "text": [
      "The highest price per m2 top 10 district are:\n"
     ]
    },
    {
     "data": {
      "text/html": [
       "<div style=\"overflow-x:auto;\"><table border=\"1\" class=\"dataframe\">\n",
       "  <thead>\n",
       "    <tr style=\"text-align: right;\">\n",
       "      <th></th>\n",
       "      <th>district</th>\n",
       "      <th>max</th>\n",
       "    </tr>\n",
       "  </thead>\n",
       "  <tbody>\n",
       "    <tr>\n",
       "      <th>11</th>\n",
       "      <td>Treptow-Köpenick</td>\n",
       "      <td>65.0</td>\n",
       "    </tr>\n",
       "    <tr>\n",
       "      <th>4</th>\n",
       "      <td>Mitte</td>\n",
       "      <td>62.857143</td>\n",
       "    </tr>\n",
       "    <tr>\n",
       "      <th>6</th>\n",
       "      <td>Pankow</td>\n",
       "      <td>61.818182</td>\n",
       "    </tr>\n",
       "    <tr>\n",
       "      <th>10</th>\n",
       "      <td>Tempelhof-Schöneberg</td>\n",
       "      <td>59.375</td>\n",
       "    </tr>\n",
       "    <tr>\n",
       "      <th>1</th>\n",
       "      <td>Friedrichshain-Kreuzberg</td>\n",
       "      <td>46.0</td>\n",
       "    </tr>\n",
       "    <tr>\n",
       "      <th>2</th>\n",
       "      <td>Lichtenberg</td>\n",
       "      <td>45.431307</td>\n",
       "    </tr>\n",
       "    <tr>\n",
       "      <th>7</th>\n",
       "      <td>Reinickendorf</td>\n",
       "      <td>45.0</td>\n",
       "    </tr>\n",
       "    <tr>\n",
       "      <th>5</th>\n",
       "      <td>Neukölln</td>\n",
       "      <td>43.6875</td>\n",
       "    </tr>\n",
       "    <tr>\n",
       "      <th>0</th>\n",
       "      <td>Charlottenburg-Wilmersdorf</td>\n",
       "      <td>42.805837</td>\n",
       "    </tr>\n",
       "    <tr>\n",
       "      <th>8</th>\n",
       "      <td>Spandau</td>\n",
       "      <td>41.176471</td>\n",
       "    </tr>\n",
       "  </tbody>\n",
       "</table></div>"
      ],
      "text/plain": [
       "<IPython.core.display.HTML object>"
      ]
     },
     "metadata": {},
     "output_type": "display_data"
    }
   ],
   "source": [
    "df_price_adjusted_extremes_group = df_price_adjusted_extremes_group.sort_values('max', ascending=False)\n",
    "\n",
    "print(f'The highest price per m2 top 10 {area} are:')\n",
    "st.display_as_table(df_price_adjusted_extremes_group[['district', 'max']].head(10)) "
   ]
  },
  {
   "cell_type": "code",
   "execution_count": 846,
   "metadata": {},
   "outputs": [
    {
     "name": "stdout",
     "output_type": "stream",
     "text": [
      "The min price per m2 top 10 district are:\n"
     ]
    },
    {
     "data": {
      "text/html": [
       "<div style=\"overflow-x:auto;\"><table border=\"1\" class=\"dataframe\">\n",
       "  <thead>\n",
       "    <tr style=\"text-align: right;\">\n",
       "      <th></th>\n",
       "      <th>district</th>\n",
       "      <th>min</th>\n",
       "    </tr>\n",
       "  </thead>\n",
       "  <tbody>\n",
       "    <tr>\n",
       "      <th>4</th>\n",
       "      <td>Mitte</td>\n",
       "      <td>0.532245</td>\n",
       "    </tr>\n",
       "    <tr>\n",
       "      <th>6</th>\n",
       "      <td>Pankow</td>\n",
       "      <td>0.584203</td>\n",
       "    </tr>\n",
       "    <tr>\n",
       "      <th>8</th>\n",
       "      <td>Spandau</td>\n",
       "      <td>0.589267</td>\n",
       "    </tr>\n",
       "    <tr>\n",
       "      <th>1</th>\n",
       "      <td>Friedrichshain-Kreuzberg</td>\n",
       "      <td>0.718787</td>\n",
       "    </tr>\n",
       "    <tr>\n",
       "      <th>11</th>\n",
       "      <td>Treptow-Köpenick</td>\n",
       "      <td>0.736842</td>\n",
       "    </tr>\n",
       "    <tr>\n",
       "      <th>5</th>\n",
       "      <td>Neukölln</td>\n",
       "      <td>0.767677</td>\n",
       "    </tr>\n",
       "    <tr>\n",
       "      <th>10</th>\n",
       "      <td>Tempelhof-Schöneberg</td>\n",
       "      <td>0.88085</td>\n",
       "    </tr>\n",
       "    <tr>\n",
       "      <th>2</th>\n",
       "      <td>Lichtenberg</td>\n",
       "      <td>1.025641</td>\n",
       "    </tr>\n",
       "    <tr>\n",
       "      <th>0</th>\n",
       "      <td>Charlottenburg-Wilmersdorf</td>\n",
       "      <td>1.666667</td>\n",
       "    </tr>\n",
       "    <tr>\n",
       "      <th>7</th>\n",
       "      <td>Reinickendorf</td>\n",
       "      <td>1.898033</td>\n",
       "    </tr>\n",
       "  </tbody>\n",
       "</table></div>"
      ],
      "text/plain": [
       "<IPython.core.display.HTML object>"
      ]
     },
     "metadata": {},
     "output_type": "display_data"
    }
   ],
   "source": [
    "df_price_adjusted_extremes_group = df_price_adjusted_extremes_group.sort_values('min', ascending=True)\n",
    "\n",
    "print(f'The min price per m2 top 10 {area} are:')\n",
    "st.display_as_table(df_price_adjusted_extremes_group[['district', 'min']].head(10)) "
   ]
  },
  {
   "cell_type": "code",
   "execution_count": 847,
   "metadata": {},
   "outputs": [
    {
     "name": "stderr",
     "output_type": "stream",
     "text": [
      "/Library/Frameworks/Python.framework/Versions/3.11/lib/python3.11/site-packages/openpyxl/workbook/child.py:99: UserWarning: Title is more than 31 characters. Some applications may not be able to read the file\n",
      "  warnings.warn(\"Title is more than 31 characters. Some applications may not be able to read the file\")\n"
     ]
    }
   ],
   "source": [
    "file_path = 'data/output/price_analysis.xlsx'\n",
    "sheetnames = [f'{area}_price_per_m2_extremes', f'{area}_adjusted_price_per_m2_extremes']\n",
    "\n",
    "# Überprüfe, ob die Datei existiert und entferne das Blatt, falls es existiert\n",
    "if os.path.exists(file_path):\n",
    "    workbook = load_workbook(file_path)\n",
    "    for sheet_name in sheetnames:\n",
    "        if sheet_name in workbook.sheetnames:\n",
    "            del workbook[sheet_name]\n",
    "        workbook.save(file_path)\n",
    "\n",
    "with pd.ExcelWriter('data/output/price_analysis.xlsx', mode='a', engine='openpyxl') as writer:\n",
    "    df_price_extremes_group.to_excel(writer, sheet_name=sheetnames[0])\n",
    "    df_price_adjusted_extremes_group.to_excel(writer, sheet_name=sheetnames[1])"
   ]
  },
  {
   "cell_type": "markdown",
   "metadata": {},
   "source": [
    "### Step 3: Comparison of the median rent in shared flats with the general housing market \n",
    "\n",
    "In this step, we will compare the median rent from the berlin districts with the rents of the general housing market in Berlin "
   ]
  },
  {
   "cell_type": "markdown",
   "metadata": {},
   "source": [
    "To generate the median rents for 2024, we'll first calculate the annual percentage increase in rent. This involves determining the rate at which rents have grown year over year and applying this growth rate to forecast the median rents for 2024."
   ]
  },
  {
   "cell_type": "code",
   "execution_count": 848,
   "metadata": {},
   "outputs": [
    {
     "data": {
      "text/html": [
       "<div>\n",
       "<style scoped>\n",
       "    .dataframe tbody tr th:only-of-type {\n",
       "        vertical-align: middle;\n",
       "    }\n",
       "\n",
       "    .dataframe tbody tr th {\n",
       "        vertical-align: top;\n",
       "    }\n",
       "\n",
       "    .dataframe thead th {\n",
       "        text-align: right;\n",
       "    }\n",
       "</style>\n",
       "<table border=\"1\" class=\"dataframe\">\n",
       "  <thead>\n",
       "    <tr style=\"text-align: right;\">\n",
       "      <th></th>\n",
       "      <th>district</th>\n",
       "      <th>2012</th>\n",
       "      <th>2013</th>\n",
       "      <th>2014</th>\n",
       "      <th>2015</th>\n",
       "      <th>2016</th>\n",
       "      <th>2017</th>\n",
       "      <th>2018</th>\n",
       "      <th>2019</th>\n",
       "      <th>2020</th>\n",
       "      <th>2021</th>\n",
       "      <th>2022</th>\n",
       "    </tr>\n",
       "  </thead>\n",
       "  <tbody>\n",
       "    <tr>\n",
       "      <th>0</th>\n",
       "      <td>Mitte</td>\n",
       "      <td>8.03</td>\n",
       "      <td>9.39</td>\n",
       "      <td>9.36</td>\n",
       "      <td>10.06</td>\n",
       "      <td>10.51</td>\n",
       "      <td>12.77</td>\n",
       "      <td>12.51</td>\n",
       "      <td>13.45</td>\n",
       "      <td>13.70</td>\n",
       "      <td>14.00</td>\n",
       "      <td>15.46</td>\n",
       "    </tr>\n",
       "    <tr>\n",
       "      <th>1</th>\n",
       "      <td>Friedrichshain-Kreuzberg</td>\n",
       "      <td>8.61</td>\n",
       "      <td>9.64</td>\n",
       "      <td>9.98</td>\n",
       "      <td>10.99</td>\n",
       "      <td>11.50</td>\n",
       "      <td>12.50</td>\n",
       "      <td>12.94</td>\n",
       "      <td>13.01</td>\n",
       "      <td>13.11</td>\n",
       "      <td>13.52</td>\n",
       "      <td>14.85</td>\n",
       "    </tr>\n",
       "    <tr>\n",
       "      <th>2</th>\n",
       "      <td>Pankow</td>\n",
       "      <td>8.00</td>\n",
       "      <td>8.56</td>\n",
       "      <td>8.99</td>\n",
       "      <td>9.45</td>\n",
       "      <td>9.99</td>\n",
       "      <td>10.86</td>\n",
       "      <td>10.97</td>\n",
       "      <td>10.96</td>\n",
       "      <td>10.50</td>\n",
       "      <td>11.73</td>\n",
       "      <td>12.50</td>\n",
       "    </tr>\n",
       "    <tr>\n",
       "      <th>3</th>\n",
       "      <td>Charlottenburg-Wilmersdorf</td>\n",
       "      <td>8.93</td>\n",
       "      <td>9.86</td>\n",
       "      <td>9.49</td>\n",
       "      <td>10.00</td>\n",
       "      <td>10.53</td>\n",
       "      <td>11.86</td>\n",
       "      <td>12.00</td>\n",
       "      <td>12.63</td>\n",
       "      <td>12.38</td>\n",
       "      <td>13.29</td>\n",
       "      <td>15.00</td>\n",
       "    </tr>\n",
       "    <tr>\n",
       "      <th>4</th>\n",
       "      <td>Spandau</td>\n",
       "      <td>5.93</td>\n",
       "      <td>6.48</td>\n",
       "      <td>6.58</td>\n",
       "      <td>6.99</td>\n",
       "      <td>7.35</td>\n",
       "      <td>7.95</td>\n",
       "      <td>8.59</td>\n",
       "      <td>8.86</td>\n",
       "      <td>8.53</td>\n",
       "      <td>8.22</td>\n",
       "      <td>8.67</td>\n",
       "    </tr>\n",
       "  </tbody>\n",
       "</table>\n",
       "</div>"
      ],
      "text/plain": [
       "                     district  2012  2013  2014   2015   2016   2017   2018  \\\n",
       "0                       Mitte  8.03  9.39  9.36  10.06  10.51  12.77  12.51   \n",
       "1    Friedrichshain-Kreuzberg  8.61  9.64  9.98  10.99  11.50  12.50  12.94   \n",
       "2                      Pankow  8.00  8.56  8.99   9.45   9.99  10.86  10.97   \n",
       "3  Charlottenburg-Wilmersdorf  8.93  9.86  9.49  10.00  10.53  11.86  12.00   \n",
       "4                     Spandau  5.93  6.48  6.58   6.99   7.35   7.95   8.59   \n",
       "\n",
       "    2019   2020   2021   2022  \n",
       "0  13.45  13.70  14.00  15.46  \n",
       "1  13.01  13.11  13.52  14.85  \n",
       "2  10.96  10.50  11.73  12.50  \n",
       "3  12.63  12.38  13.29  15.00  \n",
       "4   8.86   8.53   8.22   8.67  "
      ]
     },
     "execution_count": 848,
     "metadata": {},
     "output_type": "execute_result"
    }
   ],
   "source": [
    "path = 'data/input'\n",
    "years = range(2012, 2023)\n",
    "\n",
    "dataframes = []\n",
    "\n",
    "for year in years:\n",
    "    file_path = os.path.join(path, f'Angebotsmieten_Berlin_Bezirke_{year}.csv')\n",
    "    if os.path.exists(file_path):\n",
    "        df_year = pd.read_csv(file_path, sep=',', usecols=[0, 1])\n",
    "        df_year = df_year.rename(columns={df_year.columns[1]: str(year)})  # Rename the second column to the year\n",
    "        dataframes.append(df_year)\n",
    "\n",
    "df_district_median_rental_prices = pd.concat(dataframes, axis=1)\n",
    "df_district_median_rental_prices = df_district_median_rental_prices.loc[:, ~df_district_median_rental_prices.columns.duplicated()]  # Remove duplicate columns\n",
    "\n",
    "df_district_median_rental_prices = df_district_median_rental_prices.rename(columns={'Bezirk' : 'district'})\n",
    "\n",
    "df_district_median_rental_prices.head()"
   ]
  },
  {
   "cell_type": "markdown",
   "metadata": {},
   "source": [
    "Create a dataframe that captures of the yearly increase in rent for each district"
   ]
  },
  {
   "cell_type": "code",
   "execution_count": 849,
   "metadata": {},
   "outputs": [],
   "source": [
    "years = range(2012, 2022)\n",
    "\n",
    "df_yearly_increase = pd.DataFrame()\n",
    "df = df_district_median_rental_prices\n",
    "df_yearly_increase['district'] = df['district']\n",
    "\n",
    "\n",
    "for i in range(len(years) - 1):\n",
    "    year = years[i]\n",
    "    next_year = years[i + 1]\n",
    "    df_yearly_increase[f'{year}-{next_year}'] = ((df[str(next_year)] - df[str(year)]) / df[str(year)]) * 100\n",
    "\n",
    "df_yearly_increase['Average_Increase'] = df_yearly_increase.iloc[:, 1:].mean(axis=1)"
   ]
  },
  {
   "cell_type": "code",
   "execution_count": 850,
   "metadata": {},
   "outputs": [
    {
     "data": {
      "text/html": [
       "<div>\n",
       "<style scoped>\n",
       "    .dataframe tbody tr th:only-of-type {\n",
       "        vertical-align: middle;\n",
       "    }\n",
       "\n",
       "    .dataframe tbody tr th {\n",
       "        vertical-align: top;\n",
       "    }\n",
       "\n",
       "    .dataframe thead th {\n",
       "        text-align: right;\n",
       "    }\n",
       "</style>\n",
       "<table border=\"1\" class=\"dataframe\">\n",
       "  <thead>\n",
       "    <tr style=\"text-align: right;\">\n",
       "      <th></th>\n",
       "      <th>district</th>\n",
       "      <th>2024</th>\n",
       "    </tr>\n",
       "  </thead>\n",
       "  <tbody>\n",
       "    <tr>\n",
       "      <th>0</th>\n",
       "      <td>Mitte</td>\n",
       "      <td>17.575338</td>\n",
       "    </tr>\n",
       "    <tr>\n",
       "      <th>1</th>\n",
       "      <td>Friedrichshain-Kreuzberg</td>\n",
       "      <td>16.438139</td>\n",
       "    </tr>\n",
       "    <tr>\n",
       "      <th>2</th>\n",
       "      <td>Pankow</td>\n",
       "      <td>13.635863</td>\n",
       "    </tr>\n",
       "    <tr>\n",
       "      <th>3</th>\n",
       "      <td>Charlottenburg-Wilmersdorf</td>\n",
       "      <td>16.424575</td>\n",
       "    </tr>\n",
       "    <tr>\n",
       "      <th>4</th>\n",
       "      <td>Spandau</td>\n",
       "      <td>9.341384</td>\n",
       "    </tr>\n",
       "    <tr>\n",
       "      <th>5</th>\n",
       "      <td>Steglitz-Zehlendorf</td>\n",
       "      <td>13.238488</td>\n",
       "    </tr>\n",
       "    <tr>\n",
       "      <th>6</th>\n",
       "      <td>Tempelhof-Schöneberg</td>\n",
       "      <td>12.139936</td>\n",
       "    </tr>\n",
       "    <tr>\n",
       "      <th>7</th>\n",
       "      <td>Neukölln</td>\n",
       "      <td>11.526679</td>\n",
       "    </tr>\n",
       "    <tr>\n",
       "      <th>8</th>\n",
       "      <td>Treptow-Köpenick</td>\n",
       "      <td>13.029115</td>\n",
       "    </tr>\n",
       "    <tr>\n",
       "      <th>9</th>\n",
       "      <td>Marzahn-Hellersdorf</td>\n",
       "      <td>10.367822</td>\n",
       "    </tr>\n",
       "    <tr>\n",
       "      <th>10</th>\n",
       "      <td>Lichtenberg</td>\n",
       "      <td>11.117928</td>\n",
       "    </tr>\n",
       "    <tr>\n",
       "      <th>11</th>\n",
       "      <td>Reinickendorf</td>\n",
       "      <td>10.472163</td>\n",
       "    </tr>\n",
       "    <tr>\n",
       "      <th>12</th>\n",
       "      <td>Berlin Insgesamt</td>\n",
       "      <td>12.506265</td>\n",
       "    </tr>\n",
       "  </tbody>\n",
       "</table>\n",
       "</div>"
      ],
      "text/plain": [
       "                      district       2024\n",
       "0                        Mitte  17.575338\n",
       "1     Friedrichshain-Kreuzberg  16.438139\n",
       "2                       Pankow  13.635863\n",
       "3   Charlottenburg-Wilmersdorf  16.424575\n",
       "4                      Spandau   9.341384\n",
       "5          Steglitz-Zehlendorf  13.238488\n",
       "6         Tempelhof-Schöneberg  12.139936\n",
       "7                     Neukölln  11.526679\n",
       "8             Treptow-Köpenick  13.029115\n",
       "9          Marzahn-Hellersdorf  10.367822\n",
       "10                 Lichtenberg  11.117928\n",
       "11               Reinickendorf  10.472163\n",
       "12            Berlin Insgesamt  12.506265"
      ]
     },
     "execution_count": 850,
     "metadata": {},
     "output_type": "execute_result"
    }
   ],
   "source": [
    "df_yearly_increase['Average_Increase'] = df_yearly_increase['Average_Increase'] / 100\n",
    "\n",
    "# Add the forecasted 2023 and 2024 rents to the original df_combined DataFrame\n",
    "df['2023'] = df_district_median_rental_prices['2022'] * (1 + df_yearly_increase['Average_Increase'].values)\n",
    "df['2024'] = df_district_median_rental_prices['2023'] * (1 + df_yearly_increase['Average_Increase'].values)\n",
    "\n",
    "df_median_rental_price_2024 = df[['district', '2024']]\n",
    "\n",
    "# Überprüfen und Ändern des Distrikt-Namens\n",
    "df_median_rental_price_2024.loc[df['district'] == 'Berlin insgesamt', 'district'] = 'Berlin Insgesamt'\n",
    "\n",
    "df_median_rental_price_2024"
   ]
  },
  {
   "cell_type": "markdown",
   "metadata": {},
   "source": [
    "Explanation of the Ending of the Variables: \n",
    "- sf - shared flats\n",
    "- ghm - general housing market  "
   ]
  },
  {
   "cell_type": "code",
   "execution_count": 851,
   "metadata": {},
   "outputs": [
    {
     "data": {
      "text/html": [
       "<div>\n",
       "<style scoped>\n",
       "    .dataframe tbody tr th:only-of-type {\n",
       "        vertical-align: middle;\n",
       "    }\n",
       "\n",
       "    .dataframe tbody tr th {\n",
       "        vertical-align: top;\n",
       "    }\n",
       "\n",
       "    .dataframe thead th {\n",
       "        text-align: right;\n",
       "    }\n",
       "</style>\n",
       "<table border=\"1\" class=\"dataframe\">\n",
       "  <thead>\n",
       "    <tr style=\"text-align: right;\">\n",
       "      <th></th>\n",
       "      <th>district</th>\n",
       "      <th>adjusted_price_per_m2_mean</th>\n",
       "      <th>adjusted_price_per_m2_median</th>\n",
       "    </tr>\n",
       "  </thead>\n",
       "  <tbody>\n",
       "    <tr>\n",
       "      <th>7</th>\n",
       "      <td>Reinickendorf</td>\n",
       "      <td>19.916927</td>\n",
       "      <td>20.218987</td>\n",
       "    </tr>\n",
       "    <tr>\n",
       "      <th>8</th>\n",
       "      <td>Spandau</td>\n",
       "      <td>19.137435</td>\n",
       "      <td>19.689121</td>\n",
       "    </tr>\n",
       "    <tr>\n",
       "      <th>9</th>\n",
       "      <td>Steglitz-Zehlendorf</td>\n",
       "      <td>18.681118</td>\n",
       "      <td>18.742822</td>\n",
       "    </tr>\n",
       "    <tr>\n",
       "      <th>0</th>\n",
       "      <td>Charlottenburg-Wilmersdorf</td>\n",
       "      <td>19.233919</td>\n",
       "      <td>18.495685</td>\n",
       "    </tr>\n",
       "    <tr>\n",
       "      <th>6</th>\n",
       "      <td>Pankow</td>\n",
       "      <td>18.956652</td>\n",
       "      <td>18.301622</td>\n",
       "    </tr>\n",
       "    <tr>\n",
       "      <th>4</th>\n",
       "      <td>Mitte</td>\n",
       "      <td>19.105827</td>\n",
       "      <td>17.979162</td>\n",
       "    </tr>\n",
       "    <tr>\n",
       "      <th>12</th>\n",
       "      <td>Berlin Insgesamt</td>\n",
       "      <td>18.581456</td>\n",
       "      <td>17.899079</td>\n",
       "    </tr>\n",
       "    <tr>\n",
       "      <th>10</th>\n",
       "      <td>Tempelhof-Schöneberg</td>\n",
       "      <td>18.613814</td>\n",
       "      <td>17.818997</td>\n",
       "    </tr>\n",
       "    <tr>\n",
       "      <th>2</th>\n",
       "      <td>Lichtenberg</td>\n",
       "      <td>18.626275</td>\n",
       "      <td>17.813275</td>\n",
       "    </tr>\n",
       "    <tr>\n",
       "      <th>11</th>\n",
       "      <td>Treptow-Köpenick</td>\n",
       "      <td>18.032768</td>\n",
       "      <td>17.359713</td>\n",
       "    </tr>\n",
       "    <tr>\n",
       "      <th>3</th>\n",
       "      <td>Marzahn-Hellersdorf</td>\n",
       "      <td>17.735013</td>\n",
       "      <td>17.253846</td>\n",
       "    </tr>\n",
       "    <tr>\n",
       "      <th>5</th>\n",
       "      <td>Neukölln</td>\n",
       "      <td>17.403556</td>\n",
       "      <td>16.848716</td>\n",
       "    </tr>\n",
       "    <tr>\n",
       "      <th>1</th>\n",
       "      <td>Friedrichshain-Kreuzberg</td>\n",
       "      <td>17.534165</td>\n",
       "      <td>16.703552</td>\n",
       "    </tr>\n",
       "  </tbody>\n",
       "</table>\n",
       "</div>"
      ],
      "text/plain": [
       "                      district adjusted_price_per_m2_mean  \\\n",
       "7                Reinickendorf                  19.916927   \n",
       "8                      Spandau                  19.137435   \n",
       "9          Steglitz-Zehlendorf                  18.681118   \n",
       "0   Charlottenburg-Wilmersdorf                  19.233919   \n",
       "6                       Pankow                  18.956652   \n",
       "4                        Mitte                  19.105827   \n",
       "12            Berlin Insgesamt                  18.581456   \n",
       "10        Tempelhof-Schöneberg                  18.613814   \n",
       "2                  Lichtenberg                  18.626275   \n",
       "11            Treptow-Köpenick                  18.032768   \n",
       "3          Marzahn-Hellersdorf                  17.735013   \n",
       "5                     Neukölln                  17.403556   \n",
       "1     Friedrichshain-Kreuzberg                  17.534165   \n",
       "\n",
       "   adjusted_price_per_m2_median  \n",
       "7                     20.218987  \n",
       "8                     19.689121  \n",
       "9                     18.742822  \n",
       "0                     18.495685  \n",
       "6                     18.301622  \n",
       "4                     17.979162  \n",
       "12                    17.899079  \n",
       "10                    17.818997  \n",
       "2                     17.813275  \n",
       "11                    17.359713  \n",
       "3                     17.253846  \n",
       "5                     16.848716  \n",
       "1                     16.703552  "
      ]
     },
     "execution_count": 851,
     "metadata": {},
     "output_type": "execute_result"
    }
   ],
   "source": [
    "df_price_adjusted_group"
   ]
  },
  {
   "cell_type": "code",
   "execution_count": 852,
   "metadata": {},
   "outputs": [],
   "source": [
    "df_comparison = pd.merge(df_price_group, df_price_adjusted_group, on='district')\n",
    "df_comparison = pd.merge(df_comparison, df_median_rental_price_2024, on='district')\n",
    "\n",
    "df_comparison = df_comparison.rename(columns={\n",
    "    'district': 'District',\n",
    "    'price_per_m2_median': 'Price_SharedFlats', \n",
    "    'adjusted_price_per_m2_median': 'Price_Adjusted_SharedFlats',\n",
    "    '2024': 'Price_HousingMarket'})\n",
    "\n",
    "df_comparison.drop(columns=['price_per_m2_mean', 'adjusted_price_per_m2_mean'], inplace=True)\n",
    "\n",
    "# Now df_comparison will have columns for original and adjusted median prices from both df_price_group and df_price_adjusted_group, alongside the median rental prices from df_district_median_rental_prices\n",
    "# You can add calculation columns to directly compare these, for example:\n",
    "df_comparison['Diff_SharedFlats_vs_HousingMarket'] = df_comparison['Price_SharedFlats'] - df_comparison['Price_HousingMarket']\n",
    "df_comparison['Diff_SharedFlats_Adjusted_vs_HousingMarket'] = df_comparison['Price_Adjusted_SharedFlats'] - df_comparison['Price_HousingMarket']"
   ]
  },
  {
   "cell_type": "code",
   "execution_count": 853,
   "metadata": {},
   "outputs": [],
   "source": [
    "# Calculating the percentage differences for Original and Adjusted Prices vs. Housing Market\n",
    "df_comparison['Diff_Original_%'] = (df_comparison['Price_SharedFlats'] / df_comparison['Price_HousingMarket']) * 100\n",
    "df_comparison['Diff_Adjusted_%'] = (df_comparison['Price_Adjusted_SharedFlats'] / df_comparison['Price_HousingMarket']) * 100"
   ]
  },
  {
   "cell_type": "code",
   "execution_count": 854,
   "metadata": {},
   "outputs": [
    {
     "name": "stdout",
     "output_type": "stream",
     "text": [
      "The highest difference in price per m2 from shared flats to housing market are:\n"
     ]
    },
    {
     "data": {
      "text/html": [
       "<div style=\"overflow-x:auto;\"><table border=\"1\" class=\"dataframe\">\n",
       "  <thead>\n",
       "    <tr style=\"text-align: right;\">\n",
       "      <th></th>\n",
       "      <th>District</th>\n",
       "      <th>Price_SharedFlats</th>\n",
       "      <th>Price_HousingMarket</th>\n",
       "      <th>Diff_SharedFlats_vs_HousingMarket</th>\n",
       "      <th>Diff_Original_%</th>\n",
       "    </tr>\n",
       "  </thead>\n",
       "  <tbody>\n",
       "    <tr>\n",
       "      <th>3</th>\n",
       "      <td>Spandau</td>\n",
       "      <td>29.166667</td>\n",
       "      <td>9.341384</td>\n",
       "      <td>19.825283</td>\n",
       "      <td>312.230674</td>\n",
       "    </tr>\n",
       "    <tr>\n",
       "      <th>0</th>\n",
       "      <td>Reinickendorf</td>\n",
       "      <td>30.555556</td>\n",
       "      <td>10.472163</td>\n",
       "      <td>20.083393</td>\n",
       "      <td>291.778846</td>\n",
       "    </tr>\n",
       "    <tr>\n",
       "      <th>4</th>\n",
       "      <td>Marzahn-Hellersdorf</td>\n",
       "      <td>29.039216</td>\n",
       "      <td>10.367822</td>\n",
       "      <td>18.671394</td>\n",
       "      <td>280.089839</td>\n",
       "    </tr>\n",
       "    <tr>\n",
       "      <th>1</th>\n",
       "      <td>Lichtenberg</td>\n",
       "      <td>30.0</td>\n",
       "      <td>11.117928</td>\n",
       "      <td>18.882072</td>\n",
       "      <td>269.834451</td>\n",
       "    </tr>\n",
       "    <tr>\n",
       "      <th>9</th>\n",
       "      <td>Tempelhof-Schöneberg</td>\n",
       "      <td>28.0</td>\n",
       "      <td>12.139936</td>\n",
       "      <td>15.860064</td>\n",
       "      <td>230.64372</td>\n",
       "    </tr>\n",
       "    <tr>\n",
       "      <th>6</th>\n",
       "      <td>Berlin Insgesamt</td>\n",
       "      <td>28.639881</td>\n",
       "      <td>12.506265</td>\n",
       "      <td>16.133616</td>\n",
       "      <td>229.004279</td>\n",
       "    </tr>\n",
       "    <tr>\n",
       "      <th>12</th>\n",
       "      <td>Neukölln</td>\n",
       "      <td>26.282895</td>\n",
       "      <td>11.526679</td>\n",
       "      <td>14.756216</td>\n",
       "      <td>228.017932</td>\n",
       "    </tr>\n",
       "    <tr>\n",
       "      <th>2</th>\n",
       "      <td>Steglitz-Zehlendorf</td>\n",
       "      <td>30.0</td>\n",
       "      <td>13.238488</td>\n",
       "      <td>16.761512</td>\n",
       "      <td>226.611983</td>\n",
       "    </tr>\n",
       "    <tr>\n",
       "      <th>7</th>\n",
       "      <td>Treptow-Köpenick</td>\n",
       "      <td>28.571429</td>\n",
       "      <td>13.029115</td>\n",
       "      <td>15.542314</td>\n",
       "      <td>219.289101</td>\n",
       "    </tr>\n",
       "    <tr>\n",
       "      <th>8</th>\n",
       "      <td>Pankow</td>\n",
       "      <td>28.571429</td>\n",
       "      <td>13.635863</td>\n",
       "      <td>14.935565</td>\n",
       "      <td>209.531499</td>\n",
       "    </tr>\n",
       "    <tr>\n",
       "      <th>11</th>\n",
       "      <td>Charlottenburg-Wilmersdorf</td>\n",
       "      <td>27.888889</td>\n",
       "      <td>16.424575</td>\n",
       "      <td>11.464314</td>\n",
       "      <td>169.79976</td>\n",
       "    </tr>\n",
       "    <tr>\n",
       "      <th>10</th>\n",
       "      <td>Friedrichshain-Kreuzberg</td>\n",
       "      <td>27.906977</td>\n",
       "      <td>16.438139</td>\n",
       "      <td>11.468837</td>\n",
       "      <td>169.76968</td>\n",
       "    </tr>\n",
       "    <tr>\n",
       "      <th>5</th>\n",
       "      <td>Mitte</td>\n",
       "      <td>28.708333</td>\n",
       "      <td>17.575338</td>\n",
       "      <td>11.132995</td>\n",
       "      <td>163.344416</td>\n",
       "    </tr>\n",
       "  </tbody>\n",
       "</table></div>"
      ],
      "text/plain": [
       "<IPython.core.display.HTML object>"
      ]
     },
     "metadata": {},
     "output_type": "display_data"
    }
   ],
   "source": [
    "df_comparison = df_comparison.sort_values('Diff_Original_%', ascending=False)\n",
    "\n",
    "print('The highest difference in price per m2 from shared flats to housing market are:')\n",
    "st.display_as_table(df_comparison[['District', 'Price_SharedFlats', 'Price_HousingMarket', 'Diff_SharedFlats_vs_HousingMarket','Diff_Original_%']])"
   ]
  },
  {
   "cell_type": "code",
   "execution_count": 855,
   "metadata": {},
   "outputs": [
    {
     "name": "stdout",
     "output_type": "stream",
     "text": [
      "The highest difference in price per m2 adjusted from shared flats to housing market are:\n"
     ]
    },
    {
     "data": {
      "text/html": [
       "<div style=\"overflow-x:auto;\"><table border=\"1\" class=\"dataframe\">\n",
       "  <thead>\n",
       "    <tr style=\"text-align: right;\">\n",
       "      <th></th>\n",
       "      <th>District</th>\n",
       "      <th>Price_Adjusted_SharedFlats</th>\n",
       "      <th>Price_HousingMarket</th>\n",
       "      <th>Diff_SharedFlats_Adjusted_vs_HousingMarket</th>\n",
       "      <th>Diff_Adjusted_%</th>\n",
       "    </tr>\n",
       "  </thead>\n",
       "  <tbody>\n",
       "    <tr>\n",
       "      <th>3</th>\n",
       "      <td>Spandau</td>\n",
       "      <td>19.689121</td>\n",
       "      <td>9.341384</td>\n",
       "      <td>10.347737</td>\n",
       "      <td>210.773059</td>\n",
       "    </tr>\n",
       "    <tr>\n",
       "      <th>0</th>\n",
       "      <td>Reinickendorf</td>\n",
       "      <td>20.218987</td>\n",
       "      <td>10.472163</td>\n",
       "      <td>9.746824</td>\n",
       "      <td>193.073653</td>\n",
       "    </tr>\n",
       "    <tr>\n",
       "      <th>4</th>\n",
       "      <td>Marzahn-Hellersdorf</td>\n",
       "      <td>17.253846</td>\n",
       "      <td>10.367822</td>\n",
       "      <td>6.886024</td>\n",
       "      <td>166.41727</td>\n",
       "    </tr>\n",
       "    <tr>\n",
       "      <th>1</th>\n",
       "      <td>Lichtenberg</td>\n",
       "      <td>17.813275</td>\n",
       "      <td>11.117928</td>\n",
       "      <td>6.695347</td>\n",
       "      <td>160.22118</td>\n",
       "    </tr>\n",
       "    <tr>\n",
       "      <th>9</th>\n",
       "      <td>Tempelhof-Schöneberg</td>\n",
       "      <td>17.818997</td>\n",
       "      <td>12.139936</td>\n",
       "      <td>5.679061</td>\n",
       "      <td>146.779988</td>\n",
       "    </tr>\n",
       "    <tr>\n",
       "      <th>12</th>\n",
       "      <td>Neukölln</td>\n",
       "      <td>16.848716</td>\n",
       "      <td>11.526679</td>\n",
       "      <td>5.322037</td>\n",
       "      <td>146.171468</td>\n",
       "    </tr>\n",
       "    <tr>\n",
       "      <th>6</th>\n",
       "      <td>Berlin Insgesamt</td>\n",
       "      <td>17.899079</td>\n",
       "      <td>12.506265</td>\n",
       "      <td>5.392815</td>\n",
       "      <td>143.120907</td>\n",
       "    </tr>\n",
       "    <tr>\n",
       "      <th>2</th>\n",
       "      <td>Steglitz-Zehlendorf</td>\n",
       "      <td>18.742822</td>\n",
       "      <td>13.238488</td>\n",
       "      <td>5.504334</td>\n",
       "      <td>141.578265</td>\n",
       "    </tr>\n",
       "    <tr>\n",
       "      <th>8</th>\n",
       "      <td>Pankow</td>\n",
       "      <td>18.301622</td>\n",
       "      <td>13.635863</td>\n",
       "      <td>4.665758</td>\n",
       "      <td>134.216817</td>\n",
       "    </tr>\n",
       "    <tr>\n",
       "      <th>7</th>\n",
       "      <td>Treptow-Köpenick</td>\n",
       "      <td>17.359713</td>\n",
       "      <td>13.029115</td>\n",
       "      <td>4.330598</td>\n",
       "      <td>133.237855</td>\n",
       "    </tr>\n",
       "    <tr>\n",
       "      <th>11</th>\n",
       "      <td>Charlottenburg-Wilmersdorf</td>\n",
       "      <td>18.495685</td>\n",
       "      <td>16.424575</td>\n",
       "      <td>2.07111</td>\n",
       "      <td>112.609823</td>\n",
       "    </tr>\n",
       "    <tr>\n",
       "      <th>5</th>\n",
       "      <td>Mitte</td>\n",
       "      <td>17.979162</td>\n",
       "      <td>17.575338</td>\n",
       "      <td>0.403824</td>\n",
       "      <td>102.297673</td>\n",
       "    </tr>\n",
       "    <tr>\n",
       "      <th>10</th>\n",
       "      <td>Friedrichshain-Kreuzberg</td>\n",
       "      <td>16.703552</td>\n",
       "      <td>16.438139</td>\n",
       "      <td>0.265412</td>\n",
       "      <td>101.614612</td>\n",
       "    </tr>\n",
       "  </tbody>\n",
       "</table></div>"
      ],
      "text/plain": [
       "<IPython.core.display.HTML object>"
      ]
     },
     "metadata": {},
     "output_type": "display_data"
    }
   ],
   "source": [
    "df_comparison = df_comparison.sort_values('Diff_Adjusted_%', ascending=False)\n",
    "\n",
    "print('The highest difference in price per m2 adjusted from shared flats to housing market are:')\n",
    "st.display_as_table(df_comparison[['District', 'Price_Adjusted_SharedFlats', 'Price_HousingMarket', 'Diff_SharedFlats_Adjusted_vs_HousingMarket','Diff_Adjusted_%']])"
   ]
  },
  {
   "cell_type": "code",
   "execution_count": 856,
   "metadata": {},
   "outputs": [
    {
     "data": {
      "image/png": "[encoded data removed]",
      "text/plain": [
       "<Figure size 1000x400 with 1 Axes>"
      ]
     },
     "metadata": {},
     "output_type": "display_data"
    }
   ],
   "source": [
    "import seaborn as sns\n",
    "import matplotlib.pyplot as plt\n",
    "\n",
    "# Setting up the style\n",
    "sns.set(style=\"whitegrid\")\n",
    "plt.figure(figsize=(10, 4))\n",
    "\n",
    "# Plotting Original Prices\n",
    "sns.barplot(x='Price_SharedFlats', y='District', data=df_comparison, color='skyblue', label='Original Shared Flats Price')\n",
    "\n",
    "# Plotting Adjusted Prices\n",
    "sns.barplot(x='Price_Adjusted_SharedFlats', y='District', data=df_comparison, color='lightgreen', alpha=0.6, label='Adjusted Shared Flats Price')\n",
    "\n",
    "# Plotting Housing Market Prices\n",
    "sns.barplot(x='Price_HousingMarket', y='District', data=df_comparison, color='salmon', alpha=0.6, label='Housing Market Price')\n",
    "\n",
    "plt.title('Comparison of Original, Adjusted Shared Flats Prices vs Housing Market', fontsize=9)\n",
    "plt.xlabel('Price per m²', fontsize=9)\n",
    "plt.ylabel('', fontsize=9)\n",
    "\n",
    "# Reduce the font size of the districts (y tick labels) to 9\n",
    "plt.yticks(fontsize=9)\n",
    "\n",
    "# Move the legend outside of the plot\n",
    "plt.legend(loc='upper left', bbox_to_anchor=(1, 1), fontsize=9)\n",
    "\n",
    "sns.despine()\n",
    "plt.tight_layout()\n",
    "plt.show()\n"
   ]
  },
  {
   "cell_type": "code",
   "execution_count": 857,
   "metadata": {},
   "outputs": [
    {
     "name": "stderr",
     "output_type": "stream",
     "text": [
      "/Library/Frameworks/Python.framework/Versions/3.11/lib/python3.11/site-packages/openpyxl/workbook/child.py:99: UserWarning: Title is more than 31 characters. Some applications may not be able to read the file\n",
      "  warnings.warn(\"Title is more than 31 characters. Some applications may not be able to read the file\")\n"
     ]
    }
   ],
   "source": [
    "file_path = 'data/output/price_analysis.xlsx'\n",
    "sheet_name = 'Price Comparison'\n",
    "\n",
    "# Überprüfe, ob die Datei existiert und entferne das Blatt, falls es existiert\n",
    "if os.path.exists(file_path):\n",
    "    workbook = load_workbook(file_path)\n",
    "    if sheet_name in workbook.sheetnames:\n",
    "        del workbook[sheet_name]\n",
    "    workbook.save(file_path)\n",
    "\n",
    "with pd.ExcelWriter(file_path, engine='openpyxl', mode='a') as writer:\n",
    "    df_comparison.to_excel(writer, sheet_name=sheet_name, index=False)"
   ]
  }
 ],
 "metadata": {
  "kernelspec": {
   "display_name": "Python 3",
   "language": "python",
   "name": "python3"
  },
  "language_info": {
   "codemirror_mode": {
    "name": "ipython",
    "version": 3
   },
   "file_extension": ".py",
   "mimetype": "text/x-python",
   "name": "python",
   "nbconvert_exporter": "python",
   "pygments_lexer": "ipython3",
   "version": "3.11.2"
  }
 },
 "nbformat": 4,
 "nbformat_minor": 2
}
