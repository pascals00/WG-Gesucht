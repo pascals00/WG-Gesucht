{
 "cells": [
  {
   "cell_type": "markdown",
   "metadata": {},
   "source": [
    "# WG - Gesucht Data Analysis \n",
    "#### Step 2: Makro Analysis\n",
    "\n",
    "##### This notebook explores the data of the WG-Gesucht dataset. The process includes the following: \n",
    "- Looking at the distribution of the room ads in Berlin \n",
    "- The average rent, room size in Berlin (Median and Arithemntic Mean)\n",
    "- Minimum and Maximum rent and room size in Berlin \n",
    "- The ads which are first and last published \n",
    "- The number of ads with an unlimeted and limited contract \n",
    "- How many shared flats for student are available, the average roommate age and roommates are in the Apartments"
   ]
  },
  {
   "cell_type": "code",
   "execution_count": 1,
   "metadata": {},
   "outputs": [],
   "source": [
    "import pandas as pd\n",
    "import os \n",
    "from openpyxl import load_workbook\n",
    "from datetime import datetime\n",
    "import seaborn as sns\n",
    "import matplotlib.pyplot as plt\n",
    "from matplotlib import rc\n",
    "import src.language as ln\n",
    "import src.settings as st\n",
    "import matplotlib\n",
    "import numpy as np"
   ]
  },
  {
   "cell_type": "code",
   "execution_count": 2,
   "metadata": {},
   "outputs": [],
   "source": [
    "df = pd.read_parquet('Data/apartmentsBerlinDataCleaned.parquet')\n",
    "\n",
    "# Settings\n",
    "langauge = 'german'\n",
    "font = {'fontname': 'Calibri'}\n",
    "# Say, \"the default sans-serif font is COMIC SANS\"\n",
    "matplotlib.rcParams['font.sans-serif'] = \"Calibri\"\n",
    "# Then, \"ALWAYS use sans-serif fonts\"\n",
    "matplotlib.rcParams['font.family'] = \"sans-serif\"\n",
    "pd.options.mode.copy_on_write = True\n"
   ]
  },
  {
   "cell_type": "markdown",
   "metadata": {
    "vscode": {
     "languageId": "shellscript"
    }
   },
   "source": [
    "#### Step 2.1: Distribution of rooms and rents in Berlin"
   ]
  },
  {
   "cell_type": "code",
   "execution_count": 3,
   "metadata": {},
   "outputs": [],
   "source": [
    "# Overwrite total rent with total rent updated: Shortterm contracts just have the rent for the short duration not the entire month\n",
    "df['total_rent'] = df['rent_updated']"
   ]
  },
  {
   "cell_type": "code",
   "execution_count": 4,
   "metadata": {},
   "outputs": [],
   "source": [
    "# Calculate roughly price per square meter\n",
    "df.loc[:, 'price_per_sqm'] = df['total_rent'] / df['room_size']"
   ]
  },
  {
   "cell_type": "code",
   "execution_count": 5,
   "metadata": {},
   "outputs": [],
   "source": [
    "df_overview_berlin = df[['apartmentID', 'title', 'room_size', 'total_rent', 'price_per_sqm']]"
   ]
  },
  {
   "cell_type": "code",
   "execution_count": 6,
   "metadata": {},
   "outputs": [],
   "source": [
    "labels_roomsize= ln.get_labels(1, langauge)  \n",
    "labels_rent = ln.get_labels(2, langauge)  "
   ]
  },
  {
   "cell_type": "code",
   "execution_count": 7,
   "metadata": {},
   "outputs": [
    {
     "data": {
      "image/png": "[encoded data removed]",
      "text/plain": [
       "<Figure size 400x400 with 1 Axes>"
      ]
     },
     "metadata": {},
     "output_type": "display_data"
    }
   ],
   "source": [
    "sns.set(style=\"white\")  # Set the style of the plots with Seaborn\n",
    "sns.set_context(\"paper\")\n",
    "#sns.color_palette(\"flare\")\n",
    "plt.figure(figsize=(4, 4))\n",
    "\n",
    "bins=range(0, 80, 2)\n",
    "x_vaiable = 'room_size'\n",
    "\n",
    "# Room Distribution\n",
    "sns.histplot(data=df_overview_berlin, x=x_vaiable, bins=bins, color = '#dc5454', edgecolor='black')\n",
    "#plt.title(labels_roomsize['title'])\n",
    "plt.xlabel(labels_roomsize['x_label'], fontsize=9)\n",
    "plt.ylabel(labels_roomsize['y_label'], fontsize=9)\n",
    "plt.xlim(0, 80)\n",
    "sns.despine()"
   ]
  },
  {
   "cell_type": "markdown",
   "metadata": {},
   "source": [
    "Get the databasis to create the same plot in excel"
   ]
  },
  {
   "cell_type": "code",
   "execution_count": 8,
   "metadata": {},
   "outputs": [],
   "source": [
    "# Calculate the histogram bins and frequencies\n",
    "hist, bins = np.histogram(df_overview_berlin[x_vaiable], bins=bins)\n",
    "\n",
    "# Create a DataFrame with the histogram data\n",
    "histogram_data = pd.DataFrame({'Bin': bins[:-1], 'Frequency': hist})\n",
    "\n",
    "file_path = 'data/output/makro_analysis.xlsx'\n",
    "sheet_name = 'Room Size Distribution'\n",
    "\n",
    "# Überprüfe, ob die Datei existiert und entferne das Blatt, falls es existiert\n",
    "if os.path.exists(file_path):\n",
    "    workbook = load_workbook(file_path)\n",
    "    if sheet_name in workbook.sheetnames:\n",
    "        del workbook[sheet_name]\n",
    "    workbook.save(file_path)\n",
    "\n",
    "with pd.ExcelWriter(file_path, engine='openpyxl', mode='a') as writer:\n",
    "    histogram_data.to_excel(writer, sheet_name=sheet_name, index=False)"
   ]
  },
  {
   "cell_type": "code",
   "execution_count": 9,
   "metadata": {},
   "outputs": [
    {
     "data": {
      "image/png": "[encoded data removed]",
      "text/plain": [
       "<Figure size 400x400 with 1 Axes>"
      ]
     },
     "metadata": {},
     "output_type": "display_data"
    }
   ],
   "source": [
    "sns.set(style=\"white\")  # Set the style of the plots with Seaborn\n",
    "sns.set_context(\"paper\")\n",
    "plt.figure(figsize=(4, 4))\n",
    "\n",
    "# Prize Distribution\n",
    "bins = range(0, 2250, 50)\n",
    "x_vaiable = 'total_rent'\n",
    "\n",
    "# Rent Distribution\n",
    "sns.histplot(data=df_overview_berlin, x=x_vaiable, bins=bins, color = '#dc5454', edgecolor='black')\n",
    "#plt.title(labels_roomsize['title'])\n",
    "plt.xlabel(labels_rent['x_label'], fontsize=9)\n",
    "plt.ylabel(labels_rent['y_label'], fontsize=9)\n",
    "plt.xlim(0, 2000)\n",
    "sns.despine()"
   ]
  },
  {
   "cell_type": "markdown",
   "metadata": {},
   "source": [
    "Get the databasis to create the same plot in excel"
   ]
  },
  {
   "cell_type": "code",
   "execution_count": 10,
   "metadata": {},
   "outputs": [],
   "source": [
    "# Calculate the histogram bins and frequencies\n",
    "hist, bins = np.histogram(df_overview_berlin[x_vaiable], bins=bins)\n",
    "\n",
    "# Create a DataFrame with the histogram data\n",
    "histogram_data = pd.DataFrame({'Bin': bins[:-1], 'Frequency': hist})\n",
    "\n",
    "file_path = 'data/output/makro_analysis.xlsx'\n",
    "sheet_name = 'Rent Distribution'\n",
    "\n",
    "# Überprüfe, ob die Datei existiert und entferne das Blatt, falls es existiert\n",
    "if os.path.exists(file_path):\n",
    "    workbook = load_workbook(file_path)\n",
    "    if sheet_name in workbook.sheetnames:\n",
    "        del workbook[sheet_name]\n",
    "    workbook.save(file_path)\n",
    "\n",
    "with pd.ExcelWriter(file_path, engine='openpyxl', mode='a') as writer:\n",
    "    histogram_data.to_excel(writer, sheet_name=sheet_name, index=False)"
   ]
  },
  {
   "cell_type": "code",
   "execution_count": 11,
   "metadata": {},
   "outputs": [
    {
     "data": {
      "image/png": "[encoded data removed]",
      "text/plain": [
       "<Figure size 400x400 with 1 Axes>"
      ]
     },
     "metadata": {},
     "output_type": "display_data"
    }
   ],
   "source": [
    "sns.set(style=\"white\")  # Set the style of the plots with Seaborn\n",
    "sns.set_context(\"paper\")\n",
    "plt.figure(figsize=(4, 4))\n",
    "\n",
    "# Prize Distribution\n",
    "bins = range(0, 100, 2)\n",
    "x_vaiable = 'price_per_sqm'\n",
    "\n",
    "# Rent Distribution\n",
    "sns.histplot(data=df_overview_berlin, x=x_vaiable, bins=bins, color = '#dc5454', edgecolor='black')\n",
    "#plt.title(labels_roomsize['title'])\n",
    "plt.xlabel(labels_rent['x_label'], fontsize=9)\n",
    "plt.ylabel(labels_rent['y_label'], fontsize=9)\n",
    "plt.xlim(0, 100)\n",
    "sns.despine()"
   ]
  },
  {
   "cell_type": "code",
   "execution_count": 12,
   "metadata": {},
   "outputs": [],
   "source": [
    "# Calculate the histogram bins and frequencies\n",
    "hist, bins = np.histogram(df_overview_berlin[x_vaiable], bins=bins)\n",
    "\n",
    "# Create a DataFrame with the histogram data\n",
    "histogram_data = pd.DataFrame({'Bin': bins[:-1], 'Frequency': hist})\n",
    "\n",
    "file_path = 'data/output/makro_analysis.xlsx'\n",
    "sheet_name = 'Squaremeter Price Distribution'\n",
    "\n",
    "# Überprüfe, ob die Datei existiert und entferne das Blatt, falls es existiert\n",
    "if os.path.exists(file_path):\n",
    "    workbook = load_workbook(file_path)\n",
    "    if sheet_name in workbook.sheetnames:\n",
    "        del workbook[sheet_name]\n",
    "    workbook.save(file_path)\n",
    "\n",
    "with pd.ExcelWriter(file_path, engine='openpyxl', mode='a') as writer:\n",
    "    histogram_data.to_excel(writer, sheet_name=sheet_name, index=False)"
   ]
  },
  {
   "cell_type": "markdown",
   "metadata": {},
   "source": [
    "#### Step 2.2: Analyzing Room Sizes and Rental Prices in Berlin: Averages and Extremes"
   ]
  },
  {
   "cell_type": "markdown",
   "metadata": {},
   "source": [
    "For the follwing, you can choose excluding the top and bottom percentages of the data.\n",
    "\n",
    "For example 5%.  "
   ]
  },
  {
   "cell_type": "code",
   "execution_count": 13,
   "metadata": {},
   "outputs": [],
   "source": [
    "# Settings:  \n",
    "exclude_top_bottom_10percent = True  # Set to True to exclude, or False to include all data\n",
    "columns_to_trim = ['room_size', 'total_rent', 'price_per_sqm']\n",
    "bottom_quantile = 0.02\n",
    "top_quantile = 0.98"
   ]
  },
  {
   "cell_type": "code",
   "execution_count": 14,
   "metadata": {},
   "outputs": [],
   "source": [
    "def trim_dataset_all_columns(df, columns, exclude_top_bottom_10percent, bottom_quantile, top_quantile):\n",
    "\n",
    "    if exclude_top_bottom_10percent:\n",
    "        conditions = [df[col].between(df[col].quantile(bottom_quantile), df[col].quantile(top_quantile)) for col in columns]\n",
    "        combined_condition = conditions[0]\n",
    "        for condition in conditions[1:]:\n",
    "            combined_condition &= condition\n",
    "        return df[combined_condition]\n",
    "    else:\n",
    "        return df"
   ]
  },
  {
   "cell_type": "code",
   "execution_count": 15,
   "metadata": {},
   "outputs": [],
   "source": [
    "# Apply trimming across specified columns\n",
    "df_overview_berlin = trim_dataset_all_columns(df_overview_berlin, columns_to_trim, exclude_top_bottom_10percent, bottom_quantile, top_quantile)"
   ]
  },
  {
   "cell_type": "code",
   "execution_count": 16,
   "metadata": {},
   "outputs": [
    {
     "name": "stdout",
     "output_type": "stream",
     "text": [
      "The arithmetic mean of room sizes in Berlin is 22.85 square meters, whilst the median room size is 20.00 square meters.\n",
      "The minimum and maximum room sizes observed in the dataset are 10.00 square meters and 55.00 square meters, respectively.\n"
     ]
    }
   ],
   "source": [
    "# Calculating statistics for room size\n",
    "average_room_size = df_overview_berlin['room_size'].mean()\n",
    "median_room_size = df_overview_berlin['room_size'].median()\n",
    "min_room_size = df_overview_berlin['room_size'].min()\n",
    "max_room_size = df_overview_berlin['room_size'].max()\n",
    "\n",
    "# Printing the results with a more formal tone\n",
    "print(f\"The arithmetic mean of room sizes in Berlin is {average_room_size:.2f} square meters, whilst the median room size is {median_room_size:.2f} square meters.\")\n",
    "print(f\"The minimum and maximum room sizes observed in the dataset are {min_room_size:.2f} square meters and {max_room_size:.2f} square meters, respectively.\")\n"
   ]
  },
  {
   "cell_type": "code",
   "execution_count": 17,
   "metadata": {},
   "outputs": [
    {
     "name": "stdout",
     "output_type": "stream",
     "text": [
      "In terms of rental costs, the arithmetic mean stands at €645.26, with the median rent at €620.69.\n",
      "The range of rental costs in Berlin extends from €50.00 to €1363.64, encapsulating the diversity within the housing market.\n"
     ]
    }
   ],
   "source": [
    "# Calculating statistics for rent\n",
    "average_rent = df_overview_berlin['total_rent'].mean()\n",
    "median_rent = df_overview_berlin['total_rent'].median()\n",
    "min_rent = df_overview_berlin['total_rent'].min()\n",
    "max_rent = df_overview_berlin['total_rent'].max()\n",
    "\n",
    "print(f\"In terms of rental costs, the arithmetic mean stands at €{average_rent:.2f}, with the median rent at €{median_rent:.2f}.\")\n",
    "print(f\"The range of rental costs in Berlin extends from €{min_rent:.2f} to €{max_rent:.2f}, encapsulating the diversity within the housing market.\")"
   ]
  },
  {
   "cell_type": "code",
   "execution_count": 18,
   "metadata": {},
   "outputs": [
    {
     "name": "stdout",
     "output_type": "stream",
     "text": [
      "The mean price per square meter in Berlin is €31.04, with the median price being €30.00.\n",
      "The observed range of price per square meter spans from €2.25 to €66.67, indicating the variance in housing affordability within the city.\n"
     ]
    }
   ],
   "source": [
    "# Calculating statistics for price per square meter\n",
    "mean_price_per_sqm = df_overview_berlin['price_per_sqm'].mean()\n",
    "median_price_per_sqm = df_overview_berlin['price_per_sqm'].median()\n",
    "min_price_per_sqm = df_overview_berlin['price_per_sqm'].min()\n",
    "max_price_per_sqm = df_overview_berlin['price_per_sqm'].max()\n",
    "\n",
    "# Printing the results with a formal tone\n",
    "print(f\"The mean price per square meter in Berlin is €{mean_price_per_sqm:.2f}, with the median price being €{median_price_per_sqm:.2f}.\")\n",
    "print(f\"The observed range of price per square meter spans from €{min_price_per_sqm:.2f} to €{max_price_per_sqm:.2f}, indicating the variance in housing affordability within the city.\")\n"
   ]
  },
  {
   "cell_type": "markdown",
   "metadata": {},
   "source": [
    "#### Step 2.3: Most Recent and Latest Advertisements, Distribution of timerstricted and unlimited contracts  "
   ]
  },
  {
   "cell_type": "code",
   "execution_count": 19,
   "metadata": {},
   "outputs": [
    {
     "data": {
      "text/html": [
       "<div style=\"overflow-x:auto;\"><table border=\"1\" class=\"dataframe\">\n",
       "  <thead>\n",
       "    <tr style=\"text-align: right;\">\n",
       "      <th></th>\n",
       "      <th>apartmentID</th>\n",
       "      <th>title</th>\n",
       "      <th>available_from</th>\n",
       "      <th>available_until</th>\n",
       "      <th>online_since</th>\n",
       "    </tr>\n",
       "    <tr>\n",
       "      <th>index</th>\n",
       "      <th></th>\n",
       "      <th></th>\n",
       "      <th></th>\n",
       "      <th></th>\n",
       "      <th></th>\n",
       "    </tr>\n",
       "  </thead>\n",
       "  <tbody>\n",
       "    <tr>\n",
       "      <th>0</th>\n",
       "      <td>9754397</td>\n",
       "      <td>Privatzimmer zu Übernachtung</td>\n",
       "      <td>29.12.2023</td>\n",
       "      <td>31.01.2024</td>\n",
       "      <td>2023-12-30</td>\n",
       "    </tr>\n",
       "    <tr>\n",
       "      <th>1</th>\n",
       "      <td>10638037</td>\n",
       "      <td>Private room für Übernachtung/overnight stay</td>\n",
       "      <td>29.12.2023</td>\n",
       "      <td>04.01.2024</td>\n",
       "      <td>2023-12-30</td>\n",
       "    </tr>\n",
       "    <tr>\n",
       "      <th>2</th>\n",
       "      <td>10716109</td>\n",
       "      <td>WG-Zimmer (befristet)</td>\n",
       "      <td>01.02.2024</td>\n",
       "      <td>31.05.2024</td>\n",
       "      <td>2023-12-26</td>\n",
       "    </tr>\n",
       "    <tr>\n",
       "      <th>3</th>\n",
       "      <td>10703785</td>\n",
       "      <td>room in 2-room apartment</td>\n",
       "      <td>08.01.2024</td>\n",
       "      <td>05.02.2024</td>\n",
       "      <td>2023-12-14</td>\n",
       "    </tr>\n",
       "    <tr>\n",
       "      <th>4</th>\n",
       "      <td>9736095</td>\n",
       "      <td>Zimmer nähe Uni Adlershof</td>\n",
       "      <td>01.03.2024</td>\n",
       "      <td>30.06.2024</td>\n",
       "      <td>2023-12-12</td>\n",
       "    </tr>\n",
       "  </tbody>\n",
       "</table></div>"
      ],
      "text/plain": [
       "<IPython.core.display.HTML object>"
      ]
     },
     "metadata": {},
     "output_type": "display_data"
    }
   ],
   "source": [
    "df_overview_duration = df[['apartmentID', 'title', 'available_from', 'available_until', 'online_since']]\n",
    "\n",
    "st.display_as_table(df_overview_duration.head(5))"
   ]
  },
  {
   "cell_type": "code",
   "execution_count": 20,
   "metadata": {},
   "outputs": [
    {
     "name": "stdout",
     "output_type": "stream",
     "text": [
      "Most Recent Advertisements:\n"
     ]
    },
    {
     "data": {
      "text/html": [
       "<div style=\"overflow-x:auto;\"><table border=\"1\" class=\"dataframe\">\n",
       "  <thead>\n",
       "    <tr style=\"text-align: right;\">\n",
       "      <th></th>\n",
       "      <th>apartmentID</th>\n",
       "      <th>title</th>\n",
       "      <th>online_since</th>\n",
       "    </tr>\n",
       "    <tr>\n",
       "      <th>index</th>\n",
       "      <th></th>\n",
       "      <th></th>\n",
       "      <th></th>\n",
       "    </tr>\n",
       "  </thead>\n",
       "  <tbody>\n",
       "    <tr>\n",
       "      <th>8487</th>\n",
       "      <td>10922573</td>\n",
       "      <td>sonniges wg zimmer in fhain</td>\n",
       "      <td>2024-03-24</td>\n",
       "    </tr>\n",
       "    <tr>\n",
       "      <th>8496</th>\n",
       "      <td>10921761</td>\n",
       "      <td>Gemütliches Zimmer in 3er WG in Friedrichshain zur Zwischenmiete</td>\n",
       "      <td>2024-03-24</td>\n",
       "    </tr>\n",
       "    <tr>\n",
       "      <th>8489</th>\n",
       "      <td>10922437</td>\n",
       "      <td>Big Room with privat Balcony / near Maybachufer</td>\n",
       "      <td>2024-03-24</td>\n",
       "    </tr>\n",
       "    <tr>\n",
       "      <th>8490</th>\n",
       "      <td>10914217</td>\n",
       "      <td>Zwei Zimmer in 110m² 5-Zimmer Wohnung (geteiltes Wohnzimmer, Küche und zwei Bäder), Two rooms (furnished) in 110m² 5-room apartment (shared living room, kitchen and bathrooms)</td>\n",
       "      <td>2024-03-24</td>\n",
       "    </tr>\n",
       "    <tr>\n",
       "      <th>8491</th>\n",
       "      <td>8198478</td>\n",
       "      <td>All in, Großes und Helles Zimmer in Ruhiger WG Friedrichshain 01.04.24-30.06.2024  bzw flexibel ab 01.04  ;-)</td>\n",
       "      <td>2024-03-24</td>\n",
       "    </tr>\n",
       "  </tbody>\n",
       "</table></div>"
      ],
      "text/plain": [
       "<IPython.core.display.HTML object>"
      ]
     },
     "metadata": {},
     "output_type": "display_data"
    }
   ],
   "source": [
    "# Assuming df is your DataFrame and the dates are in string format\n",
    "df_overview_duration['available_from'] = pd.to_datetime(df_overview_duration['available_from'], format='%d.%m.%Y')\n",
    "df_overview_duration['available_until'] = pd.to_datetime(df_overview_duration['available_until'], format='%d.%m.%Y', errors='coerce')  # 'errors=coerce' to handle any non-date values\n",
    "df_overview_duration['online_since'] = pd.to_datetime(df_overview_duration['online_since'], format='%Y-%m-%d')\n",
    "\n",
    "# Display the most recent advertisements\n",
    "df_sorted_by_recent_ads = df_overview_duration.sort_values(by='online_since', ascending=False)\n",
    "\n",
    "print(\"Most Recent Advertisements:\")\n",
    "st.display_as_table(df_sorted_by_recent_ads[['apartmentID', 'title', 'online_since']].head()) "
   ]
  },
  {
   "cell_type": "code",
   "execution_count": 21,
   "metadata": {},
   "outputs": [
    {
     "name": "stdout",
     "output_type": "stream",
     "text": [
      "Most Latest Advertisements:\n"
     ]
    },
    {
     "data": {
      "text/html": [
       "<div style=\"overflow-x:auto;\"><table border=\"1\" class=\"dataframe\">\n",
       "  <thead>\n",
       "    <tr style=\"text-align: right;\">\n",
       "      <th></th>\n",
       "      <th>apartmentID</th>\n",
       "      <th>title</th>\n",
       "      <th>online_since</th>\n",
       "    </tr>\n",
       "    <tr>\n",
       "      <th>index</th>\n",
       "      <th></th>\n",
       "      <th></th>\n",
       "      <th></th>\n",
       "    </tr>\n",
       "  </thead>\n",
       "  <tbody>\n",
       "    <tr>\n",
       "      <th>2419</th>\n",
       "      <td>6723173</td>\n",
       "      <td>Möbliertes 12 qm Zimmer für 2 Wochen Zwischenmiete</td>\n",
       "      <td>2018-06-05</td>\n",
       "    </tr>\n",
       "    <tr>\n",
       "      <th>2888</th>\n",
       "      <td>6727893</td>\n",
       "      <td>available from 14-24 june</td>\n",
       "      <td>2018-06-07</td>\n",
       "    </tr>\n",
       "    <tr>\n",
       "      <th>2887</th>\n",
       "      <td>6735803</td>\n",
       "      <td>Gut gelegene Einzimmerwohnung zur kurzfristigen Untermiete</td>\n",
       "      <td>2018-06-12</td>\n",
       "    </tr>\n",
       "    <tr>\n",
       "      <th>314</th>\n",
       "      <td>6762640</td>\n",
       "      <td>mobliertes Zimmer mit ... ich muss diese anzeige hier reinstelleb um angebote ansehen zu können</td>\n",
       "      <td>2018-06-26</td>\n",
       "    </tr>\n",
       "    <tr>\n",
       "      <th>1618</th>\n",
       "      <td>6763793</td>\n",
       "      <td>Einzimmerwohnung am Ku‘damm</td>\n",
       "      <td>2018-06-26</td>\n",
       "    </tr>\n",
       "  </tbody>\n",
       "</table></div>"
      ],
      "text/plain": [
       "<IPython.core.display.HTML object>"
      ]
     },
     "metadata": {},
     "output_type": "display_data"
    }
   ],
   "source": [
    "# Display the most recent advertisements\n",
    "df_sorted_by_recent_ads = df_overview_duration.sort_values(by='online_since', ascending=True)\n",
    "\n",
    "ads_older_than2023 = df_sorted_by_recent_ads[df_sorted_by_recent_ads['online_since'] < datetime(2023, 1, 1)]\n",
    "\n",
    "print(\"Most Latest Advertisements:\")\n",
    "st.display_as_table(df_sorted_by_recent_ads[['apartmentID', 'title', 'online_since']].head())\n"
   ]
  },
  {
   "cell_type": "code",
   "execution_count": 22,
   "metadata": {},
   "outputs": [
    {
     "data": {
      "text/plain": [
       "271"
      ]
     },
     "execution_count": 22,
     "metadata": {},
     "output_type": "execute_result"
    }
   ],
   "source": [
    "len(ads_older_than2023)"
   ]
  },
  {
   "cell_type": "code",
   "execution_count": 23,
   "metadata": {},
   "outputs": [
    {
     "name": "stdout",
     "output_type": "stream",
     "text": [
      "The average time a property is available for rent is 127 days 21:14:48.778054862 days.\n"
     ]
    }
   ],
   "source": [
    "df_avg_time_in_contract =  df_overview_duration[df_overview_duration['available_until'].notna()]\n",
    "\n",
    "df_avg_time_in_contract.loc[:, 'time_in_contract'] = df_avg_time_in_contract['available_until'] - df_avg_time_in_contract['available_from']\n",
    "\n",
    "print(f'The average time a property is available for rent is {df_avg_time_in_contract[\"time_in_contract\"].mean()} days.')"
   ]
  },
  {
   "cell_type": "code",
   "execution_count": 24,
   "metadata": {},
   "outputs": [
    {
     "name": "stdout",
     "output_type": "stream",
     "text": [
      "\n",
      "Distribution of Contract Types:\n",
      "Time-restricted contracts: 6015 (in Percent: 74.11%)\n",
      "Unlimited contracts: 2101 (in Percent: 25.89%)\n"
     ]
    }
   ],
   "source": [
    "# Determining the distribution of time-restricted and unlimited contracts\n",
    "time_restricted = df_overview_duration['available_until'].notna().sum()\n",
    "unlimited = df_overview_duration['available_until'].isna().sum()\n",
    "\n",
    "print(\"\\nDistribution of Contract Types:\")\n",
    "print(f\"Time-restricted contracts: {time_restricted} (in Percent: {time_restricted / (time_restricted + unlimited) * 100:.2f}%)\")\n",
    "print(f\"Unlimited contracts: {unlimited} (in Percent: {unlimited / (time_restricted + unlimited) * 100:.2f}%)\")"
   ]
  },
  {
   "cell_type": "code",
   "execution_count": 38,
   "metadata": {},
   "outputs": [
    {
     "name": "stdout",
     "output_type": "stream",
     "text": [
      "Based on the average time a property is available for rent, a student would have to change rooms approximately 2.87 times per year.\n",
      "The demand based on the lower and high end estimate is 106049 and 127260 students per year, respectively.\n"
     ]
    }
   ],
   "source": [
    "# Calculate the demand for apartments\n",
    "lower_end = 49788\n",
    "upper_end = 59746\n",
    "\n",
    "shortterm_contract_percent = time_restricted / (time_restricted + unlimited) \n",
    "\n",
    "lower_end, upper_end = lower_end * shortterm_contract_percent, upper_end * shortterm_contract_percent\n",
    "\n",
    "avg_time_shortterm_contract_days = df_avg_time_in_contract['time_in_contract'].mean().days\n",
    "\n",
    "room_changes = 365 / avg_time_shortterm_contract_days\n",
    "\n",
    "number_of_students_on_search_per_year_low_end = lower_end * room_changes \n",
    "number_of_students_on_search_per_year_high_end = upper_end * room_changes\n",
    "\n",
    "print(f\"Based on the average time a property is available for rent, a student would have to change rooms approximately {room_changes:.2f} times per year.\")\n",
    "print(f\"The demand based on the lower and high end estimate is {number_of_students_on_search_per_year_low_end:.0f} and {number_of_students_on_search_per_year_high_end:.0f} students per year, respectively.\")"
   ]
  },
  {
   "cell_type": "markdown",
   "metadata": {},
   "source": [
    "#### Step 2.4: Analysis of Student Shared Flats: Availability, Roommate Age, and Capacity "
   ]
  },
  {
   "cell_type": "code",
   "execution_count": 25,
   "metadata": {},
   "outputs": [],
   "source": [
    "df_overview_apartment = df[['apartmentID', 'title', 'room_size', 'apartment_size', 'max_roommate', 'languages','roommate_age', 'wg_type', 'required_document1', 'required_document2', 'required_document3']]"
   ]
  },
  {
   "cell_type": "code",
   "execution_count": 26,
   "metadata": {},
   "outputs": [
    {
     "name": "stdout",
     "output_type": "stream",
     "text": [
      "Number of student flats available: 2506. The percanage is 30.88%\n"
     ]
    }
   ],
   "source": [
    "# Step 1: Filter for shared flats (WGs) available for students\n",
    "# Assuming 'Studenten-WG' uniquely identifies student flats\n",
    "\n",
    "student_wgs = df_overview_apartment[df_overview_apartment['wg_type'].str.contains('Studenten-WG', na=False)]\n",
    "print(f\"Number of student flats available: {len(student_wgs)}. The percanage is {len(student_wgs)/len(df_overview_apartment)*100:.2f}%\")"
   ]
  },
  {
   "cell_type": "code",
   "execution_count": 27,
   "metadata": {},
   "outputs": [
    {
     "name": "stdout",
     "output_type": "stream",
     "text": [
      "\n",
      "Summary of Non-Student Shared Flats:\n"
     ]
    },
    {
     "data": {
      "text/html": [
       "<div style=\"overflow-x:auto;\"><table border=\"1\" class=\"dataframe\">\n",
       "  <thead>\n",
       "    <tr style=\"text-align: right;\">\n",
       "      <th></th>\n",
       "      <th>Count</th>\n",
       "      <th>Percentage</th>\n",
       "    </tr>\n",
       "    <tr>\n",
       "      <th>wg_type</th>\n",
       "      <th></th>\n",
       "      <th></th>\n",
       "    </tr>\n",
       "  </thead>\n",
       "  <tbody>\n",
       "    <tr>\n",
       "      <th>Berufstätigen-WG</th>\n",
       "      <td>3639</td>\n",
       "      <td>44.84</td>\n",
       "    </tr>\n",
       "    <tr>\n",
       "      <th>gemischte WG</th>\n",
       "      <td>2933</td>\n",
       "      <td>36.14</td>\n",
       "    </tr>\n",
       "    <tr>\n",
       "      <th>Studenten-WG</th>\n",
       "      <td>2506</td>\n",
       "      <td>30.88</td>\n",
       "    </tr>\n",
       "    <tr>\n",
       "      <th>keine Zweck-WG</th>\n",
       "      <td>2235</td>\n",
       "      <td>27.54</td>\n",
       "    </tr>\n",
       "    <tr>\n",
       "      <th>Zweck-WG</th>\n",
       "      <td>1291</td>\n",
       "      <td>15.91</td>\n",
       "    </tr>\n",
       "    <tr>\n",
       "      <th>Frauen-WG</th>\n",
       "      <td>1193</td>\n",
       "      <td>14.70</td>\n",
       "    </tr>\n",
       "    <tr>\n",
       "      <th>Internationals welcome</th>\n",
       "      <td>1002</td>\n",
       "      <td>12.35</td>\n",
       "    </tr>\n",
       "    <tr>\n",
       "      <th>LGBTQIA+</th>\n",
       "      <td>671</td>\n",
       "      <td>8.27</td>\n",
       "    </tr>\n",
       "    <tr>\n",
       "      <th>Business-WG</th>\n",
       "      <td>352</td>\n",
       "      <td>4.34</td>\n",
       "    </tr>\n",
       "    <tr>\n",
       "      <th>Vegetarisch/Vegan</th>\n",
       "      <td>326</td>\n",
       "      <td>4.02</td>\n",
       "    </tr>\n",
       "  </tbody>\n",
       "</table></div>"
      ],
      "text/plain": [
       "<IPython.core.display.HTML object>"
      ]
     },
     "metadata": {},
     "output_type": "display_data"
    }
   ],
   "source": [
    "wg_type = df_overview_apartment['wg_type'].str.split(', ').explode()\n",
    "\n",
    "wg_type_counts = wg_type.value_counts()\n",
    "\n",
    "total_counts = len(df_overview_apartment)\n",
    "wg_type_percentages = (wg_type_counts / total_counts * 100).round(2)\n",
    "\n",
    "summary = pd.DataFrame({'Count': wg_type_counts, 'Percentage': wg_type_percentages})\n",
    "\n",
    "print(\"\\nSummary of Non-Student Shared Flats:\")\n",
    "st.display_as_table(summary.head(10))"
   ]
  },
  {
   "cell_type": "code",
   "execution_count": 28,
   "metadata": {},
   "outputs": [
    {
     "name": "stdout",
     "output_type": "stream",
     "text": [
      "\n",
      "Summary of Languages spoken in Shared Flats:\n"
     ]
    },
    {
     "data": {
      "text/html": [
       "<div style=\"overflow-x:auto;\"><table border=\"1\" class=\"dataframe\">\n",
       "  <thead>\n",
       "    <tr style=\"text-align: right;\">\n",
       "      <th></th>\n",
       "      <th>Count</th>\n",
       "      <th>Percentage</th>\n",
       "    </tr>\n",
       "    <tr>\n",
       "      <th>languages</th>\n",
       "      <th></th>\n",
       "      <th></th>\n",
       "    </tr>\n",
       "  </thead>\n",
       "  <tbody>\n",
       "    <tr>\n",
       "      <th>Deutsch</th>\n",
       "      <td>5454</td>\n",
       "      <td>67.20</td>\n",
       "    </tr>\n",
       "    <tr>\n",
       "      <th>Englisch</th>\n",
       "      <td>5267</td>\n",
       "      <td>64.90</td>\n",
       "    </tr>\n",
       "    <tr>\n",
       "      <th>Spanisch</th>\n",
       "      <td>1108</td>\n",
       "      <td>13.65</td>\n",
       "    </tr>\n",
       "    <tr>\n",
       "      <th>Französisch</th>\n",
       "      <td>843</td>\n",
       "      <td>10.39</td>\n",
       "    </tr>\n",
       "    <tr>\n",
       "      <th>Italienisch</th>\n",
       "      <td>416</td>\n",
       "      <td>5.13</td>\n",
       "    </tr>\n",
       "    <tr>\n",
       "      <th>Türkisch</th>\n",
       "      <td>213</td>\n",
       "      <td>2.62</td>\n",
       "    </tr>\n",
       "    <tr>\n",
       "      <th>Portugiesisch</th>\n",
       "      <td>162</td>\n",
       "      <td>2.00</td>\n",
       "    </tr>\n",
       "    <tr>\n",
       "      <th>Russisch</th>\n",
       "      <td>150</td>\n",
       "      <td>1.85</td>\n",
       "    </tr>\n",
       "    <tr>\n",
       "      <th>Arabisch</th>\n",
       "      <td>121</td>\n",
       "      <td>1.49</td>\n",
       "    </tr>\n",
       "    <tr>\n",
       "      <th>Polnisch</th>\n",
       "      <td>88</td>\n",
       "      <td>1.08</td>\n",
       "    </tr>\n",
       "  </tbody>\n",
       "</table></div>"
      ],
      "text/plain": [
       "<IPython.core.display.HTML object>"
      ]
     },
     "metadata": {},
     "output_type": "display_data"
    }
   ],
   "source": [
    "language = df_overview_apartment['languages'].str.split(', ').explode()\n",
    "\n",
    "language_counts = language.value_counts()\n",
    "\n",
    "total_counts = len(df_overview_apartment)\n",
    "language_percentages = (language_counts / total_counts * 100).round(2)\n",
    "\n",
    "summary = pd.DataFrame({'Count': language_counts, 'Percentage': language_percentages})\n",
    "\n",
    "print(\"\\nSummary of Languages spoken in Shared Flats:\")\n",
    "st.display_as_table(summary.head(10))"
   ]
  },
  {
   "cell_type": "code",
   "execution_count": 29,
   "metadata": {},
   "outputs": [],
   "source": [
    "# Step 2: Extract the average age of roommates per flat\n",
    "def extract_average_age(age_range):\n",
    "    if pd.isnull(age_range):\n",
    "        return None\n",
    "    ages = [int(s) for s in age_range.split() if s.isdigit()]\n",
    "    return sum(ages) / len(ages) if ages else None"
   ]
  },
  {
   "cell_type": "code",
   "execution_count": 30,
   "metadata": {},
   "outputs": [
    {
     "name": "stdout",
     "output_type": "stream",
     "text": [
      "The average age of roommates in student flats is 27.51 years.\n",
      "The minimum and maximum average ages observed in the dataset are 4.00 years and 99.00 years, respectively.\n"
     ]
    }
   ],
   "source": [
    "# Step 2.1: Caclulate the average age of roommates across the student flats\n",
    "student_wgs['average_roommate_age'] = student_wgs['roommate_age'].apply(extract_average_age)\n",
    "average_roommate_age = student_wgs['average_roommate_age'].mean()\n",
    "max_roommate_age = student_wgs['average_roommate_age'].max()\n",
    "min_roommate_age = student_wgs['average_roommate_age'].min()\n",
    "\n",
    "print(f\"The average age of roommates in student flats is {average_roommate_age:.2f} years.\")\n",
    "print(f\"The minimum and maximum average ages observed in the dataset are {min_roommate_age:.2f} years and {max_roommate_age:.2f} years, respectively.\")"
   ]
  },
  {
   "cell_type": "code",
   "execution_count": 31,
   "metadata": {},
   "outputs": [
    {
     "name": "stdout",
     "output_type": "stream",
     "text": [
      "The average age of roommates in all flats is 30.68 years.\n"
     ]
    }
   ],
   "source": [
    "# Step 2.2: Calculate the average age of roommates across all flats\n",
    "all_wgs = df_overview_apartment\n",
    "all_wgs['average_roommate_age'] = df_overview_apartment['roommate_age'].apply(extract_average_age)\n",
    "average_roommate_age_all = all_wgs['average_roommate_age'].mean()\n",
    "\n",
    "print(f\"The average age of roommates in all flats is {average_roommate_age_all:.2f} years.\")"
   ]
  },
  {
   "cell_type": "code",
   "execution_count": 32,
   "metadata": {},
   "outputs": [
    {
     "name": "stdout",
     "output_type": "stream",
     "text": [
      "Top 10 Required Documents for Apartments:\n",
      "                  Document  Count  Percentage\n",
      "0                   SCHUFA   2422       32.80\n",
      "1       Einkommensnachweis    992       13.43\n",
      "2           Selbstauskunft    584        7.91\n",
      "3  Mietzahlungsbestätigung    256        3.47\n",
      "4   SCHUFA hier beantragen    151        2.04\n",
      "5          Personalausweis     58        0.79\n",
      "6                  Ausweis     36        0.49\n",
      "7  Haftpflichtversicherung     35        0.47\n",
      "8                       ID     26        0.35\n",
      "9             Ausweiskopie     16        0.22\n"
     ]
    }
   ],
   "source": [
    "# Step 3: Get distinct string values of required documents\n",
    "# Concatenate the required_document columns and find unique values\n",
    "all_required_documents = pd.concat([\n",
    "    df_overview_apartment['required_document1'],\n",
    "    df_overview_apartment['required_document2'],\n",
    "    df_overview_apartment['required_document3']\n",
    "], ignore_index=True)\n",
    "\n",
    "# Remove NaN values\n",
    "all_required_documents = all_required_documents.dropna()\n",
    "\n",
    "# Count each distinct value\n",
    "document_counts = all_required_documents.value_counts().reset_index()\n",
    "document_counts.columns = ['Document', 'Count']\n",
    "document_counts.loc[:, 'Percentage'] = (document_counts['Count'] / len(df_overview_berlin) * 100).round(2)\n",
    "\n",
    "# Display the top 5 required documents as a DataFrame\n",
    "top_5_required_documents_df = document_counts.head(10)\n",
    "\n",
    "# Display the results\n",
    "print(\"Top 10 Required Documents for Apartments:\")\n",
    "print(top_5_required_documents_df)"
   ]
  },
  {
   "cell_type": "code",
   "execution_count": null,
   "metadata": {},
   "outputs": [],
   "source": []
  }
 ],
 "metadata": {
  "kernelspec": {
   "display_name": "WG-Gesucht Project",
   "language": "python",
   "name": "wg_gesucht_project_env"
  },
  "language_info": {
   "codemirror_mode": {
    "name": "ipython",
    "version": 3
   },
   "file_extension": ".py",
   "mimetype": "text/x-python",
   "name": "python",
   "nbconvert_exporter": "python",
   "pygments_lexer": "ipython3",
   "version": "3.11.9"
  }
 },
 "nbformat": 4,
 "nbformat_minor": 2
}
