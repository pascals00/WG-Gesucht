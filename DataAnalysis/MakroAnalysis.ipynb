{
 "cells": [
  {
   "cell_type": "markdown",
   "metadata": {},
   "source": [
    "# WG - Gesucht Data Analysis \n",
    "#### Step 2: Makro Analysis\n",
    "\n",
    "##### This notebook explores the data of the WG-Gesucht dataset. The process includes the following: \n",
    "- Looking at the distribution of the room ads in Berlin \n",
    "- The average rent, room size in Berlin (Median and Arithemntic Mean)\n",
    "- Minimum and Maximum rent and room size in Berlin \n",
    "- The ads which are first and last published \n",
    "- The number of ads with an unlimeted and limited contract \n",
    "- How many shared flats for student are available, the average roommate age and roommates are in the Apartments"
   ]
  },
  {
   "cell_type": "code",
   "execution_count": 8,
   "metadata": {},
   "outputs": [],
   "source": [
    "import pandas as pd\n",
    "from datetime import datetime\n",
    "import seaborn as sns\n",
    "import matplotlib.pyplot as plt\n",
    "from matplotlib import rc\n",
    "import src.language as ln\n",
    "import src.style as st\n",
    "import matplotlib\n",
    "import numpy as np"
   ]
  },
  {
   "cell_type": "code",
   "execution_count": 9,
   "metadata": {},
   "outputs": [],
   "source": [
    "df = pd.read_parquet('Data/apartmentsBerlinDataCleaned.parquet')\n",
    "\n",
    "# Settings\n",
    "langauge = 'german'\n",
    "font = {'fontname': 'Calibri'}\n",
    "# Say, \"the default sans-serif font is COMIC SANS\"\n",
    "matplotlib.rcParams['font.sans-serif'] = \"Calibri\"\n",
    "# Then, \"ALWAYS use sans-serif fonts\"\n",
    "matplotlib.rcParams['font.family'] = \"sans-serif\"\n",
    "pd.options.mode.copy_on_write = True\n"
   ]
  },
  {
   "cell_type": "markdown",
   "metadata": {
    "vscode": {
     "languageId": "shellscript"
    }
   },
   "source": [
    "#### Step 2.1: Distribution of rooms and rents in Berlin"
   ]
  },
  {
   "cell_type": "code",
   "execution_count": 10,
   "metadata": {},
   "outputs": [],
   "source": [
    "df_overview_berlin = df[['apartmentID', 'title', 'room_size', 'total_rent']]"
   ]
  },
  {
   "cell_type": "code",
   "execution_count": 11,
   "metadata": {},
   "outputs": [],
   "source": [
    "df_overview_berlin.loc[:, 'room_size'] = df_overview_berlin['room_size'].str.replace('m²', '').astype(float)\n",
    "df_overview_berlin.loc[:, 'total_rent'] = df_overview_berlin['total_rent'].str.replace('€', '').astype(float)\n",
    "\n",
    "# Calculate roughly price per square meter\n",
    "df_overview_berlin.loc[:, 'price_per_sqm'] = df_overview_berlin['total_rent'] / df_overview_berlin['room_size']"
   ]
  },
  {
   "cell_type": "code",
   "execution_count": 12,
   "metadata": {},
   "outputs": [],
   "source": [
    "labels_roomsize= ln.get_labels(1, langauge)  \n",
    "labels_rent = ln.get_labels(2, langauge)  "
   ]
  },
  {
   "cell_type": "code",
   "execution_count": 13,
   "metadata": {},
   "outputs": [
    {
     "data": {
      "image/png": "[encoded data removed]",
      "text/plain": [
       "<Figure size 400x400 with 1 Axes>"
      ]
     },
     "metadata": {},
     "output_type": "display_data"
    }
   ],
   "source": [
    "sns.set(style=\"white\")  # Set the style of the plots with Seaborn\n",
    "sns.set_context(\"paper\")\n",
    "#sns.color_palette(\"flare\")\n",
    "plt.figure(figsize=(4, 4))\n",
    "\n",
    "bins=300\n",
    "x_vaiable = 'room_size'\n",
    "\n",
    "# Room Distribution\n",
    "sns.histplot(data=df_overview_berlin, x=x_vaiable, bins=bins, color = '#dc5454', edgecolor='black')\n",
    "#plt.title(labels_roomsize['title'])\n",
    "plt.xlabel(labels_roomsize['x_label'], fontsize=9)\n",
    "plt.ylabel(labels_roomsize['y_label'], fontsize=9)\n",
    "plt.xlim(0, 80)\n",
    "sns.despine()"
   ]
  },
  {
   "cell_type": "markdown",
   "metadata": {},
   "source": [
    "Get the databasis to create the same plot in excel"
   ]
  },
  {
   "cell_type": "code",
   "execution_count": 14,
   "metadata": {},
   "outputs": [],
   "source": [
    "# Calculate the histogram bins and frequencies\n",
    "hist, bins = np.histogram(df_overview_berlin[x_vaiable], bins=bins)\n",
    "\n",
    "# Create a DataFrame with the histogram data\n",
    "histogram_data = pd.DataFrame({'Bin': bins[:-1], 'Frequency': hist})\n",
    "\n",
    "with pd.ExcelWriter('data/makro_analysis.xlsx') as writer:\n",
    "    histogram_data.to_excel(writer, sheet_name='Room Size Distribution', index=False)"
   ]
  },
  {
   "cell_type": "code",
   "execution_count": 15,
   "metadata": {},
   "outputs": [
    {
     "data": {
      "image/png": "[encoded data removed]",
      "text/plain": [
       "<Figure size 400x400 with 1 Axes>"
      ]
     },
     "metadata": {},
     "output_type": "display_data"
    }
   ],
   "source": [
    "sns.set(style=\"white\")  # Set the style of the plots with Seaborn\n",
    "sns.set_context(\"paper\")\n",
    "plt.figure(figsize=(4, 4))\n",
    "\n",
    "# Prize Distribution\n",
    "bins=100\n",
    "x_vaiable = 'total_rent'\n",
    "\n",
    "# Rent Distribution\n",
    "sns.histplot(data=df_overview_berlin, x=x_vaiable, bins=bins, color = '#dc5454', edgecolor='black')\n",
    "#plt.title(labels_roomsize['title'])\n",
    "plt.xlabel(labels_rent['x_label'], fontsize=9)\n",
    "plt.ylabel(labels_rent['y_label'], fontsize=9)\n",
    "plt.xlim(0, 2000)\n",
    "sns.despine()"
   ]
  },
  {
   "cell_type": "markdown",
   "metadata": {},
   "source": [
    "Get the databasis to create the same plot in excel"
   ]
  },
  {
   "cell_type": "code",
   "execution_count": 16,
   "metadata": {},
   "outputs": [],
   "source": [
    "# Calculate the histogram bins and frequencies\n",
    "hist, bins = np.histogram(df_overview_berlin[x_vaiable], bins=bins)\n",
    "\n",
    "# Create a DataFrame with the histogram data\n",
    "histogram_data = pd.DataFrame({'Bin': bins[:-1], 'Frequency': hist})\n",
    "\n",
    "with pd.ExcelWriter('data/makro_analysis.xlsx') as writer:\n",
    "    histogram_data.to_excel(writer, sheet_name='Rent Distribution', index=False)"
   ]
  },
  {
   "cell_type": "markdown",
   "metadata": {},
   "source": [
    "#### Step 2.2: Analyzing Room Sizes and Rental Prices in Berlin: Averages and Extremes"
   ]
  },
  {
   "cell_type": "markdown",
   "metadata": {},
   "source": [
    "For the follwing, you can choose excluding the top and bottom percentages of the data.\n",
    "\n",
    "For example 5%.  "
   ]
  },
  {
   "cell_type": "code",
   "execution_count": 17,
   "metadata": {},
   "outputs": [],
   "source": [
    "# Settings:  \n",
    "exclude_top_bottom_10percent = True  # Set to True to exclude, or False to include all data\n",
    "columns_to_trim = ['room_size', 'total_rent', 'price_per_sqm']\n",
    "bottom_quantile = 0.05\n",
    "top_quantile = 0.95"
   ]
  },
  {
   "cell_type": "code",
   "execution_count": 18,
   "metadata": {},
   "outputs": [],
   "source": [
    "def trim_dataset_all_columns(df, columns, exclude_top_bottom_10percent, bottom_quantile, top_quantile):\n",
    "\n",
    "    if exclude_top_bottom_10percent:\n",
    "        conditions = [df[col].between(df[col].quantile(bottom_quantile), df[col].quantile(top_quantile)) for col in columns]\n",
    "        combined_condition = conditions[0]\n",
    "        for condition in conditions[1:]:\n",
    "            combined_condition &= condition\n",
    "        return df[combined_condition]\n",
    "    else:\n",
    "        return df"
   ]
  },
  {
   "cell_type": "code",
   "execution_count": 19,
   "metadata": {},
   "outputs": [],
   "source": [
    "# Apply trimming across specified columns\n",
    "df_overview_berlin = trim_dataset_all_columns(df_overview_berlin, columns_to_trim, exclude_top_bottom_10percent, bottom_quantile, top_quantile)"
   ]
  },
  {
   "cell_type": "code",
   "execution_count": 20,
   "metadata": {},
   "outputs": [
    {
     "name": "stdout",
     "output_type": "stream",
     "text": [
      "The arithmetic mean of room sizes in Berlin is 22.21 square meters, whilst the median room size is 20.00 square meters.\n",
      "The minimum and maximum room sizes observed in the dataset are 10.00 square meters and 46.00 square meters, respectively.\n"
     ]
    }
   ],
   "source": [
    "# Calculating statistics for room size\n",
    "average_room_size = df_overview_berlin['room_size'].mean()\n",
    "median_room_size = df_overview_berlin['room_size'].median()\n",
    "min_room_size = df_overview_berlin['room_size'].min()\n",
    "max_room_size = df_overview_berlin['room_size'].max()\n",
    "\n",
    "# Printing the results with a more formal tone\n",
    "print(f\"The arithmetic mean of room sizes in Berlin is {average_room_size:.2f} square meters, whilst the median room size is {median_room_size:.2f} square meters.\")\n",
    "print(f\"The minimum and maximum room sizes observed in the dataset are {min_room_size:.2f} square meters and {max_room_size:.2f} square meters, respectively.\")\n"
   ]
  },
  {
   "cell_type": "code",
   "execution_count": 21,
   "metadata": {},
   "outputs": [
    {
     "name": "stdout",
     "output_type": "stream",
     "text": [
      "In terms of rental costs, the arithmetic mean stands at €606.99, with the median rent at €600.00.\n",
      "The range of rental costs in Berlin extends from €140.00 to €1050.00, encapsulating the diversity within the housing market.\n"
     ]
    }
   ],
   "source": [
    "# Calculating statistics for rent\n",
    "average_rent = df_overview_berlin['total_rent'].mean()\n",
    "median_rent = df_overview_berlin['total_rent'].median()\n",
    "min_rent = df_overview_berlin['total_rent'].min()\n",
    "max_rent = df_overview_berlin['total_rent'].max()\n",
    "\n",
    "print(f\"In terms of rental costs, the arithmetic mean stands at €{average_rent:.2f}, with the median rent at €{median_rent:.2f}.\")\n",
    "print(f\"The range of rental costs in Berlin extends from €{min_rent:.2f} to €{max_rent:.2f}, encapsulating the diversity within the housing market.\")"
   ]
  },
  {
   "cell_type": "code",
   "execution_count": 22,
   "metadata": {},
   "outputs": [
    {
     "name": "stdout",
     "output_type": "stream",
     "text": [
      "The mean price per square meter in Berlin is €29.91, with the median price being €28.67.\n",
      "The observed range of price per square meter spans from €4.88 to €57.50, indicating the variance in housing affordability within the city.\n"
     ]
    }
   ],
   "source": [
    "# Calculating statistics for price per square meter\n",
    "mean_price_per_sqm = df_overview_berlin['price_per_sqm'].mean()\n",
    "median_price_per_sqm = df_overview_berlin['price_per_sqm'].median()\n",
    "min_price_per_sqm = df_overview_berlin['price_per_sqm'].min()\n",
    "max_price_per_sqm = df_overview_berlin['price_per_sqm'].max()\n",
    "\n",
    "# Printing the results with a formal tone\n",
    "print(f\"The mean price per square meter in Berlin is €{mean_price_per_sqm:.2f}, with the median price being €{median_price_per_sqm:.2f}.\")\n",
    "print(f\"The observed range of price per square meter spans from €{min_price_per_sqm:.2f} to €{max_price_per_sqm:.2f}, indicating the variance in housing affordability within the city.\")\n"
   ]
  },
  {
   "cell_type": "markdown",
   "metadata": {},
   "source": [
    "#### Step 2.3: Most Recent and Latest Advertisements, Distribution of timerstricted and unlimited contracts  "
   ]
  },
  {
   "cell_type": "code",
   "execution_count": 23,
   "metadata": {},
   "outputs": [
    {
     "data": {
      "text/html": [
       "<div style=\"overflow-x:auto;\"><table border=\"1\" class=\"dataframe\">\n",
       "  <thead>\n",
       "    <tr style=\"text-align: right;\">\n",
       "      <th></th>\n",
       "      <th>apartmentID</th>\n",
       "      <th>title</th>\n",
       "      <th>available_from</th>\n",
       "      <th>available_until</th>\n",
       "      <th>online_since</th>\n",
       "    </tr>\n",
       "  </thead>\n",
       "  <tbody>\n",
       "    <tr>\n",
       "      <th>0</th>\n",
       "      <td>9754397</td>\n",
       "      <td>Privatzimmer zu Übernachtung</td>\n",
       "      <td>29.12.2023</td>\n",
       "      <td>31.01.2024</td>\n",
       "      <td>2023-12-30</td>\n",
       "    </tr>\n",
       "    <tr>\n",
       "      <th>1</th>\n",
       "      <td>10638037</td>\n",
       "      <td>Private room für Übernachtung/overnight stay</td>\n",
       "      <td>29.12.2023</td>\n",
       "      <td>04.01.2024</td>\n",
       "      <td>2023-12-30</td>\n",
       "    </tr>\n",
       "    <tr>\n",
       "      <th>2</th>\n",
       "      <td>10716109</td>\n",
       "      <td>WG-Zimmer (befristet)</td>\n",
       "      <td>01.02.2024</td>\n",
       "      <td>31.05.2024</td>\n",
       "      <td>2023-12-26</td>\n",
       "    </tr>\n",
       "    <tr>\n",
       "      <th>3</th>\n",
       "      <td>10703785</td>\n",
       "      <td>room in 2-room apartment</td>\n",
       "      <td>08.01.2024</td>\n",
       "      <td>05.02.2024</td>\n",
       "      <td>2023-12-14</td>\n",
       "    </tr>\n",
       "    <tr>\n",
       "      <th>4</th>\n",
       "      <td>9736095</td>\n",
       "      <td>Zimmer nähe Uni Adlershof</td>\n",
       "      <td>01.03.2024</td>\n",
       "      <td>30.06.2024</td>\n",
       "      <td>2023-12-12</td>\n",
       "    </tr>\n",
       "  </tbody>\n",
       "</table></div>"
      ],
      "text/plain": [
       "<IPython.core.display.HTML object>"
      ]
     },
     "metadata": {},
     "output_type": "display_data"
    }
   ],
   "source": [
    "df_overview_duration = df[['apartmentID', 'title', 'available_from', 'available_until', 'online_since']]\n",
    "\n",
    "st.display_as_table(df_overview_duration.head(5))"
   ]
  },
  {
   "cell_type": "code",
   "execution_count": 24,
   "metadata": {},
   "outputs": [
    {
     "name": "stdout",
     "output_type": "stream",
     "text": [
      "Most Recent Advertisements:\n"
     ]
    },
    {
     "data": {
      "text/html": [
       "<div style=\"overflow-x:auto;\"><table border=\"1\" class=\"dataframe\">\n",
       "  <thead>\n",
       "    <tr style=\"text-align: right;\">\n",
       "      <th></th>\n",
       "      <th>apartmentID</th>\n",
       "      <th>title</th>\n",
       "      <th>online_since</th>\n",
       "    </tr>\n",
       "  </thead>\n",
       "  <tbody>\n",
       "    <tr>\n",
       "      <th>8611</th>\n",
       "      <td>10922007</td>\n",
       "      <td>WG ZIMMER IN PRENZLAUER BERG ZU UNTERVERMIETEN</td>\n",
       "      <td>2024-03-24</td>\n",
       "    </tr>\n",
       "    <tr>\n",
       "      <th>8658</th>\n",
       "      <td>8375565</td>\n",
       "      <td>#349 40 qm~oase in friedrichshain ✡ besichtigung so 24.03.24 12:30</td>\n",
       "      <td>2024-03-24</td>\n",
       "    </tr>\n",
       "    <tr>\n",
       "      <th>8649</th>\n",
       "      <td>10921552</td>\n",
       "      <td>Helles Zimmer im Friedrichshain</td>\n",
       "      <td>2024-03-24</td>\n",
       "    </tr>\n",
       "    <tr>\n",
       "      <th>8614</th>\n",
       "      <td>10177348</td>\n",
       "      <td>WG Penthouse in Mitte!</td>\n",
       "      <td>2024-03-24</td>\n",
       "    </tr>\n",
       "    <tr>\n",
       "      <th>8651</th>\n",
       "      <td>10922573</td>\n",
       "      <td>sonniges wg zimmer in fhain</td>\n",
       "      <td>2024-03-24</td>\n",
       "    </tr>\n",
       "  </tbody>\n",
       "</table></div>"
      ],
      "text/plain": [
       "<IPython.core.display.HTML object>"
      ]
     },
     "metadata": {},
     "output_type": "display_data"
    }
   ],
   "source": [
    "# Assuming df is your DataFrame and the dates are in string format\n",
    "df_overview_duration['available_from'] = pd.to_datetime(df_overview_duration['available_from'], format='%d.%m.%Y')\n",
    "df_overview_duration['available_until'] = pd.to_datetime(df_overview_duration['available_until'], format='%d.%m.%Y', errors='coerce')  # 'errors=coerce' to handle any non-date values\n",
    "df_overview_duration['online_since'] = pd.to_datetime(df_overview_duration['online_since'], format='%Y-%m-%d')\n",
    "\n",
    "# Display the most recent advertisements\n",
    "df_sorted_by_recent_ads = df_overview_duration.sort_values(by='online_since', ascending=False)\n",
    "\n",
    "print(\"Most Recent Advertisements:\")\n",
    "st.display_as_table(df_sorted_by_recent_ads[['apartmentID', 'title', 'online_since']].head()) "
   ]
  },
  {
   "cell_type": "code",
   "execution_count": 25,
   "metadata": {},
   "outputs": [
    {
     "name": "stdout",
     "output_type": "stream",
     "text": [
      "Most Latest Advertisements:\n"
     ]
    },
    {
     "data": {
      "text/html": [
       "<div style=\"overflow-x:auto;\"><table border=\"1\" class=\"dataframe\">\n",
       "  <thead>\n",
       "    <tr style=\"text-align: right;\">\n",
       "      <th></th>\n",
       "      <th>apartmentID</th>\n",
       "      <th>title</th>\n",
       "      <th>online_since</th>\n",
       "    </tr>\n",
       "  </thead>\n",
       "  <tbody>\n",
       "    <tr>\n",
       "      <th>2433</th>\n",
       "      <td>6723173</td>\n",
       "      <td>Möbliertes 12 qm Zimmer für 2 Wochen Zwischenmiete</td>\n",
       "      <td>2018-06-05</td>\n",
       "    </tr>\n",
       "    <tr>\n",
       "      <th>2902</th>\n",
       "      <td>6727893</td>\n",
       "      <td>available from 14-24 june</td>\n",
       "      <td>2018-06-07</td>\n",
       "    </tr>\n",
       "    <tr>\n",
       "      <th>2901</th>\n",
       "      <td>6735803</td>\n",
       "      <td>Gut gelegene Einzimmerwohnung zur kurzfristigen Untermiete</td>\n",
       "      <td>2018-06-12</td>\n",
       "    </tr>\n",
       "    <tr>\n",
       "      <th>316</th>\n",
       "      <td>6762640</td>\n",
       "      <td>mobliertes Zimmer mit ... ich muss diese anzeige hier reinstelleb um angebote ansehen zu können</td>\n",
       "      <td>2018-06-26</td>\n",
       "    </tr>\n",
       "    <tr>\n",
       "      <th>1627</th>\n",
       "      <td>6763793</td>\n",
       "      <td>Einzimmerwohnung am Ku‘damm</td>\n",
       "      <td>2018-06-26</td>\n",
       "    </tr>\n",
       "  </tbody>\n",
       "</table></div>"
      ],
      "text/plain": [
       "<IPython.core.display.HTML object>"
      ]
     },
     "metadata": {},
     "output_type": "display_data"
    }
   ],
   "source": [
    "# Display the most recent advertisements\n",
    "df_sorted_by_recent_ads = df_overview_duration.sort_values(by='online_since', ascending=True)\n",
    "\n",
    "print(\"Most Latest Advertisements:\")\n",
    "st.display_as_table(df_sorted_by_recent_ads[['apartmentID', 'title', 'online_since']].head()) \n"
   ]
  },
  {
   "cell_type": "code",
   "execution_count": 26,
   "metadata": {},
   "outputs": [
    {
     "name": "stdout",
     "output_type": "stream",
     "text": [
      "\n",
      "Distribution of Contract Types:\n",
      "Time-restricted contracts: 6287\n",
      "Unlimited contracts: 2430\n"
     ]
    }
   ],
   "source": [
    "# Determining the distribution of time-restricted and unlimited contracts\n",
    "time_restricted = df_overview_duration['available_until'].notna().sum()\n",
    "unlimited = df_overview_duration['available_until'].isna().sum()\n",
    "\n",
    "print(\"\\nDistribution of Contract Types:\")\n",
    "print(f\"Time-restricted contracts: {time_restricted}\")\n",
    "print(f\"Unlimited contracts: {unlimited}\")"
   ]
  },
  {
   "cell_type": "markdown",
   "metadata": {},
   "source": [
    "#### Step 2.4: Analysis of Student Shared Flats: Availability, Roommate Age, and Capacity "
   ]
  },
  {
   "cell_type": "code",
   "execution_count": 27,
   "metadata": {},
   "outputs": [],
   "source": [
    "df_overview_apartment = df[['apartmentID', 'title', 'room_size', 'apartment_size', 'max_roommate', 'roommate_age', 'wg_type', 'required_document1', 'required_document2', 'required_document3']]"
   ]
  },
  {
   "cell_type": "code",
   "execution_count": 28,
   "metadata": {},
   "outputs": [],
   "source": [
    "#st.display_as_table(df_overview_apartment.head(5))"
   ]
  },
  {
   "cell_type": "code",
   "execution_count": 29,
   "metadata": {},
   "outputs": [
    {
     "name": "stdout",
     "output_type": "stream",
     "text": [
      "Number of student flats available: 2563. The percanage is 29.40%\n"
     ]
    }
   ],
   "source": [
    "# Step 1: Filter for shared flats (WGs) available for students\n",
    "# Assuming 'Studenten-WG' uniquely identifies student flats\n",
    "\n",
    "student_wgs = df_overview_apartment[df_overview_apartment['wg_type'].str.contains('Studenten-WG', na=False)]\n",
    "print(f\"Number of student flats available: {len(student_wgs)}. The percanage is {len(student_wgs)/len(df_overview_apartment)*100:.2f}%\")"
   ]
  },
  {
   "cell_type": "code",
   "execution_count": 30,
   "metadata": {},
   "outputs": [],
   "source": [
    "# Step 2: Extract the average age of roommates per flat\n",
    "def extract_average_age(age_range):\n",
    "    if pd.isnull(age_range):\n",
    "        return None\n",
    "    ages = [int(s) for s in age_range.split() if s.isdigit()]\n",
    "    return sum(ages) / len(ages) if ages else None"
   ]
  },
  {
   "cell_type": "code",
   "execution_count": 31,
   "metadata": {},
   "outputs": [
    {
     "name": "stdout",
     "output_type": "stream",
     "text": [
      "The average age of roommates in student flats is 27.54 years.\n"
     ]
    }
   ],
   "source": [
    "# Step 2.1: Caclulate the average age of roommates across the student flats\n",
    "student_wgs['average_roommate_age'] = student_wgs['roommate_age'].apply(extract_average_age)\n",
    "average_roommate_age = student_wgs['average_roommate_age'].mean()\n",
    "\n",
    "print(f\"The average age of roommates in student flats is {average_roommate_age:.2f} years.\")"
   ]
  },
  {
   "cell_type": "code",
   "execution_count": 32,
   "metadata": {},
   "outputs": [
    {
     "name": "stdout",
     "output_type": "stream",
     "text": [
      "The average age of roommates in all flats is 30.66 years.\n"
     ]
    }
   ],
   "source": [
    "# Step 2.2: Calculate the average age of roommates across all flats\n",
    "all_wgs = df_overview_apartment\n",
    "all_wgs['average_roommate_age'] = df_overview_apartment['roommate_age'].apply(extract_average_age)\n",
    "average_roommate_age_all = all_wgs['average_roommate_age'].mean()\n",
    "\n",
    "print(f\"The average age of roommates in all flats is {average_roommate_age_all:.2f} years.\")"
   ]
  },
  {
   "cell_type": "code",
   "execution_count": 33,
   "metadata": {},
   "outputs": [
    {
     "name": "stdout",
     "output_type": "stream",
     "text": [
      "Top 10 Required Documents for Apartments:\n",
      "                  Document  Count\n",
      "0                   SCHUFA   2549\n",
      "1       Einkommensnachweis   1047\n",
      "2           Selbstauskunft    618\n",
      "3  Mietzahlungsbestätigung    265\n",
      "4   SCHUFA hier beantragen    160\n",
      "5          Personalausweis     61\n",
      "6                  Ausweis     45\n",
      "7  Haftpflichtversicherung     35\n",
      "8                       ID     29\n",
      "9                 Passport     19\n"
     ]
    }
   ],
   "source": [
    "# Step 3: Get distinct string values of required documents\n",
    "# Concatenate the required_document columns and find unique values\n",
    "all_required_documents = pd.concat([\n",
    "    df_overview_apartment['required_document1'],\n",
    "    df_overview_apartment['required_document2'],\n",
    "    df_overview_apartment['required_document3']\n",
    "], ignore_index=True)\n",
    "\n",
    "# Remove NaN values\n",
    "all_required_documents = all_required_documents.dropna()\n",
    "\n",
    "# Count each distinct value\n",
    "document_counts = all_required_documents.value_counts().reset_index()\n",
    "document_counts.columns = ['Document', 'Count']\n",
    "\n",
    "# Display the top 5 required documents as a DataFrame\n",
    "top_5_required_documents_df = document_counts.head(10)\n",
    "\n",
    "# Display the results\n",
    "print(\"Top 10 Required Documents for Apartments:\")\n",
    "print(top_5_required_documents_df)"
   ]
  },
  {
   "cell_type": "code",
   "execution_count": null,
   "metadata": {},
   "outputs": [],
   "source": []
  }
 ],
 "metadata": {
  "kernelspec": {
   "display_name": "Python 3",
   "language": "python",
   "name": "python3"
  },
  "language_info": {
   "codemirror_mode": {
    "name": "ipython",
    "version": 3
   },
   "file_extension": ".py",
   "mimetype": "text/x-python",
   "name": "python",
   "nbconvert_exporter": "python",
   "pygments_lexer": "ipython3",
   "version": "3.11.2"
  }
 },
 "nbformat": 4,
 "nbformat_minor": 2
}
