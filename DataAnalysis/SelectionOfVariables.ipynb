{
 "cells": [
  {
   "cell_type": "code",
   "execution_count": 14,
   "metadata": {},
   "outputs": [
    {
     "name": "stdout",
     "output_type": "stream",
     "text": [
      "apartmentID: 3010 distinct values\n",
      "title: 139 distinct values\n",
      "room_size: 636 distinct values\n",
      "total_rent: 2 distinct values\n",
      "premiumstatus: 15 distinct values\n",
      "user_name: 3167 distinct values\n",
      "address: 3069 distinct values\n",
      "street: 223 distinct values\n",
      "postcode: 178 distinct values\n",
      "suburb: 9 distinct values\n",
      "city: 574 distinct values\n",
      "available_from: 438 distinct values\n",
      "available_until: 398 distinct values\n",
      "online_since: 614 distinct values\n",
      "rent: 122 distinct values\n",
      "utilities: 56 distinct values\n",
      "other_costs: 502 distinct values\n",
      "deposit: 24 distinct values\n",
      "transfer_agreement_cost: 174 distinct values\n",
      "apartment_size: 14 distinct values\n",
      "max_roommate: 454 distinct values\n",
      "roommate_age: 184 distinct values\n",
      "languages: 477 distinct values\n",
      "wg_type: 4 distinct values\n",
      "smoking_policy: 357 distinct values\n",
      "preferred_gender_age: 277 distinct values\n",
      "wg_detail1: 100 distinct values\n",
      "wg_detail2: 9 distinct values\n",
      "house_type: 7 distinct values\n",
      "floor: 3 distinct values\n",
      "parking_situation: 14 distinct values\n",
      "public_transport_reach: 2 distinct values\n",
      "furnitured: 2 distinct values\n",
      "garden: 2 distinct values\n",
      "balcony: 2 distinct values\n",
      "electricity_eco_friendly: 5 distinct values\n",
      "heating: 2 distinct values\n",
      "internet: 11 distinct values\n",
      "bathroom: 7 distinct values\n",
      "ground_material: 148 distinct values\n",
      "object_detail1: 0 distinct values\n",
      "object_detail2: 92 distinct values\n",
      "required_document1: 60 distinct values\n",
      "required_document2: 5 distinct values\n",
      "required_document3: 38 distinct values\n"
     ]
    }
   ],
   "source": [
    "import pandas as pd\n",
    "import os\n",
    "\n",
    "# Get the parent directory of the current working directory\n",
    "parent_dir = os.path.abspath(os.path.join(os.getcwd(), os.pardir))\n",
    "\n",
    "apartmentsDataPath = os.path.join(parent_dir, 'WebCrawlerApp/data/output/apartmentsBerlinData.csv')\n",
    "\n",
    "# Read the CSV file\n",
    "df = pd.read_csv(apartmentsDataPath, usecols=list(range(1, 46)))\n",
    "\n",
    "# Get the distinct column names and their values\n",
    "column_names = df.columns.tolist()\n",
    "distinct_values = df.nunique().tolist()\n",
    "\n",
    "# Create a dictionary to store the column descriptions\n",
    "column_descriptions = {}\n",
    "\n",
    "# Iterate over the column names and distinct values\n",
    "for name, value in zip(column_names, distinct_values):\n",
    "    if name in column_descriptions:\n",
    "        # If the column name already exists, append the distinct value to the existing description\n",
    "        column_descriptions[name] += f\", {value} distinct values\"\n",
    "    else:\n",
    "        # If the column name is new, create a new description\n",
    "        column_descriptions[name] = f\"{name}: {value} distinct values\"\n",
    "\n",
    "# Print the column descriptions\n",
    "for description in column_descriptions.values():\n",
    "    print(description)\n"
   ]
  },
  {
   "cell_type": "code",
   "execution_count": null,
   "metadata": {},
   "outputs": [],
   "source": []
  },
  {
   "cell_type": "code",
   "execution_count": null,
   "metadata": {},
   "outputs": [],
   "source": []
  }
 ],
 "metadata": {
  "kernelspec": {
   "display_name": "Python 3",
   "language": "python",
   "name": "python3"
  },
  "language_info": {
   "codemirror_mode": {
    "name": "ipython",
    "version": 3
   },
   "file_extension": ".py",
   "mimetype": "text/x-python",
   "name": "python",
   "nbconvert_exporter": "python",
   "pygments_lexer": "ipython3",
   "version": "3.11.2"
  }
 },
 "nbformat": 4,
 "nbformat_minor": 2
}
